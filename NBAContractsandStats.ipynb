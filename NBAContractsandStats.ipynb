{
  "cells": [
    {
      "cell_type": "markdown",
      "metadata": {
        "id": "view-in-github",
        "colab_type": "text"
      },
      "source": [
        "<a href=\"https://colab.research.google.com/github/kyu30/NBAContractStats/blob/main/NBAContractsandStats.ipynb\" target=\"_parent\"><img src=\"https://colab.research.google.com/assets/colab-badge.svg\" alt=\"Open In Colab\"/></a>"
      ]
    },
    {
      "cell_type": "code",
      "execution_count": null,
      "metadata": {
        "id": "L9DN_fH5bOjs"
      },
      "outputs": [],
      "source": [
        "import pandas as pd\n",
        "import io\n",
        "from google.colab import files\n",
        "import numpy as np\n",
        "import matplotlib.pyplot as plt\n",
        "import seaborn as sns"
      ]
    },
    {
      "cell_type": "code",
      "execution_count": null,
      "metadata": {
        "colab": {
          "base_uri": "https://localhost:8080/",
          "height": 73
        },
        "id": "HKBCMYkIbTp2",
        "outputId": "59bfa712-33e0-4e17-ea34-c2ed68ae91de"
      },
      "outputs": [
        {
          "output_type": "display_data",
          "data": {
            "text/plain": [
              "<IPython.core.display.HTML object>"
            ],
            "text/html": [
              "\n",
              "     <input type=\"file\" id=\"files-a9b8261a-0c03-4f44-8efe-c82d569163d3\" name=\"files[]\" multiple disabled\n",
              "        style=\"border:none\" />\n",
              "     <output id=\"result-a9b8261a-0c03-4f44-8efe-c82d569163d3\">\n",
              "      Upload widget is only available when the cell has been executed in the\n",
              "      current browser session. Please rerun this cell to enable.\n",
              "      </output>\n",
              "      <script>// Copyright 2017 Google LLC\n",
              "//\n",
              "// Licensed under the Apache License, Version 2.0 (the \"License\");\n",
              "// you may not use this file except in compliance with the License.\n",
              "// You may obtain a copy of the License at\n",
              "//\n",
              "//      http://www.apache.org/licenses/LICENSE-2.0\n",
              "//\n",
              "// Unless required by applicable law or agreed to in writing, software\n",
              "// distributed under the License is distributed on an \"AS IS\" BASIS,\n",
              "// WITHOUT WARRANTIES OR CONDITIONS OF ANY KIND, either express or implied.\n",
              "// See the License for the specific language governing permissions and\n",
              "// limitations under the License.\n",
              "\n",
              "/**\n",
              " * @fileoverview Helpers for google.colab Python module.\n",
              " */\n",
              "(function(scope) {\n",
              "function span(text, styleAttributes = {}) {\n",
              "  const element = document.createElement('span');\n",
              "  element.textContent = text;\n",
              "  for (const key of Object.keys(styleAttributes)) {\n",
              "    element.style[key] = styleAttributes[key];\n",
              "  }\n",
              "  return element;\n",
              "}\n",
              "\n",
              "// Max number of bytes which will be uploaded at a time.\n",
              "const MAX_PAYLOAD_SIZE = 100 * 1024;\n",
              "\n",
              "function _uploadFiles(inputId, outputId) {\n",
              "  const steps = uploadFilesStep(inputId, outputId);\n",
              "  const outputElement = document.getElementById(outputId);\n",
              "  // Cache steps on the outputElement to make it available for the next call\n",
              "  // to uploadFilesContinue from Python.\n",
              "  outputElement.steps = steps;\n",
              "\n",
              "  return _uploadFilesContinue(outputId);\n",
              "}\n",
              "\n",
              "// This is roughly an async generator (not supported in the browser yet),\n",
              "// where there are multiple asynchronous steps and the Python side is going\n",
              "// to poll for completion of each step.\n",
              "// This uses a Promise to block the python side on completion of each step,\n",
              "// then passes the result of the previous step as the input to the next step.\n",
              "function _uploadFilesContinue(outputId) {\n",
              "  const outputElement = document.getElementById(outputId);\n",
              "  const steps = outputElement.steps;\n",
              "\n",
              "  const next = steps.next(outputElement.lastPromiseValue);\n",
              "  return Promise.resolve(next.value.promise).then((value) => {\n",
              "    // Cache the last promise value to make it available to the next\n",
              "    // step of the generator.\n",
              "    outputElement.lastPromiseValue = value;\n",
              "    return next.value.response;\n",
              "  });\n",
              "}\n",
              "\n",
              "/**\n",
              " * Generator function which is called between each async step of the upload\n",
              " * process.\n",
              " * @param {string} inputId Element ID of the input file picker element.\n",
              " * @param {string} outputId Element ID of the output display.\n",
              " * @return {!Iterable<!Object>} Iterable of next steps.\n",
              " */\n",
              "function* uploadFilesStep(inputId, outputId) {\n",
              "  const inputElement = document.getElementById(inputId);\n",
              "  inputElement.disabled = false;\n",
              "\n",
              "  const outputElement = document.getElementById(outputId);\n",
              "  outputElement.innerHTML = '';\n",
              "\n",
              "  const pickedPromise = new Promise((resolve) => {\n",
              "    inputElement.addEventListener('change', (e) => {\n",
              "      resolve(e.target.files);\n",
              "    });\n",
              "  });\n",
              "\n",
              "  const cancel = document.createElement('button');\n",
              "  inputElement.parentElement.appendChild(cancel);\n",
              "  cancel.textContent = 'Cancel upload';\n",
              "  const cancelPromise = new Promise((resolve) => {\n",
              "    cancel.onclick = () => {\n",
              "      resolve(null);\n",
              "    };\n",
              "  });\n",
              "\n",
              "  // Wait for the user to pick the files.\n",
              "  const files = yield {\n",
              "    promise: Promise.race([pickedPromise, cancelPromise]),\n",
              "    response: {\n",
              "      action: 'starting',\n",
              "    }\n",
              "  };\n",
              "\n",
              "  cancel.remove();\n",
              "\n",
              "  // Disable the input element since further picks are not allowed.\n",
              "  inputElement.disabled = true;\n",
              "\n",
              "  if (!files) {\n",
              "    return {\n",
              "      response: {\n",
              "        action: 'complete',\n",
              "      }\n",
              "    };\n",
              "  }\n",
              "\n",
              "  for (const file of files) {\n",
              "    const li = document.createElement('li');\n",
              "    li.append(span(file.name, {fontWeight: 'bold'}));\n",
              "    li.append(span(\n",
              "        `(${file.type || 'n/a'}) - ${file.size} bytes, ` +\n",
              "        `last modified: ${\n",
              "            file.lastModifiedDate ? file.lastModifiedDate.toLocaleDateString() :\n",
              "                                    'n/a'} - `));\n",
              "    const percent = span('0% done');\n",
              "    li.appendChild(percent);\n",
              "\n",
              "    outputElement.appendChild(li);\n",
              "\n",
              "    const fileDataPromise = new Promise((resolve) => {\n",
              "      const reader = new FileReader();\n",
              "      reader.onload = (e) => {\n",
              "        resolve(e.target.result);\n",
              "      };\n",
              "      reader.readAsArrayBuffer(file);\n",
              "    });\n",
              "    // Wait for the data to be ready.\n",
              "    let fileData = yield {\n",
              "      promise: fileDataPromise,\n",
              "      response: {\n",
              "        action: 'continue',\n",
              "      }\n",
              "    };\n",
              "\n",
              "    // Use a chunked sending to avoid message size limits. See b/62115660.\n",
              "    let position = 0;\n",
              "    do {\n",
              "      const length = Math.min(fileData.byteLength - position, MAX_PAYLOAD_SIZE);\n",
              "      const chunk = new Uint8Array(fileData, position, length);\n",
              "      position += length;\n",
              "\n",
              "      const base64 = btoa(String.fromCharCode.apply(null, chunk));\n",
              "      yield {\n",
              "        response: {\n",
              "          action: 'append',\n",
              "          file: file.name,\n",
              "          data: base64,\n",
              "        },\n",
              "      };\n",
              "\n",
              "      let percentDone = fileData.byteLength === 0 ?\n",
              "          100 :\n",
              "          Math.round((position / fileData.byteLength) * 100);\n",
              "      percent.textContent = `${percentDone}% done`;\n",
              "\n",
              "    } while (position < fileData.byteLength);\n",
              "  }\n",
              "\n",
              "  // All done.\n",
              "  yield {\n",
              "    response: {\n",
              "      action: 'complete',\n",
              "    }\n",
              "  };\n",
              "}\n",
              "\n",
              "scope.google = scope.google || {};\n",
              "scope.google.colab = scope.google.colab || {};\n",
              "scope.google.colab._files = {\n",
              "  _uploadFiles,\n",
              "  _uploadFilesContinue,\n",
              "};\n",
              "})(self);\n",
              "</script> "
            ]
          },
          "metadata": {}
        },
        {
          "output_type": "stream",
          "name": "stdout",
          "text": [
            "Saving nba_2022-23_all_stats_with_salary_final.csv to nba_2022-23_all_stats_with_salary_final.csv\n"
          ]
        }
      ],
      "source": [
        "uploaded = files.upload()"
      ]
    },
    {
      "cell_type": "code",
      "execution_count": null,
      "metadata": {
        "id": "JKeeXbW0cET0"
      },
      "outputs": [],
      "source": [
        "df = pd.read_csv('nba_2022-23_all_stats_with_salary_final.csv', index_col = 'Unnamed: 0')"
      ]
    },
    {
      "cell_type": "code",
      "execution_count": null,
      "metadata": {
        "id": "Thl8sHas1uHj"
      },
      "outputs": [],
      "source": [
        "# Creating a metric to measure player production over the course of a season\n",
        "def seasonScore (datfram, Player):\n",
        "  newdf = datfram[datfram['Player Name'] == Player]\n",
        "  score = newdf['PTS'] + 0.4 * newdf['FG'] - 0.7 * newdf['FGA'] - 0.4*(newdf['FTA'] - newdf['FT']) + 0.7 * newdf['ORB'] + 0.3 * newdf['DRB'] + newdf['STL'] + 0.7 * newdf['AST'] + 0.7 * newdf['BLK'] - 0.4 * newdf['PF'] - newdf['TOV']\n",
        "  score += newdf['GP']/82\n",
        "  score = score.values\n",
        "  score = score.round(2)\n",
        "  return score"
      ]
    },
    {
      "cell_type": "code",
      "execution_count": null,
      "metadata": {
        "id": "y7Vp8GlG44cv"
      },
      "outputs": [],
      "source": [
        "score = []\n",
        "for index,row in df.iterrows():\n",
        "  player = row['Player Name']\n",
        "  score.append(seasonScore(df,player))\n",
        "df['Season Score'] = score\n",
        "df['Season Score'] = df['Season Score'].astype(float)\n",
        "#df.dtypes"
      ]
    },
    {
      "cell_type": "code",
      "execution_count": null,
      "metadata": {
        "id": "6qZLhlzToeEx"
      },
      "outputs": [],
      "source": [
        "#df['Season Score'] = df['Season Score'].str[0:-1]\n",
        "df.index = df['Player Name']\n",
        "#df = df.drop(['Player Name'], axis = 1)\n",
        "df = df.drop(['FG', 'FG%', '2P', 'FTr', 'ORB%', 'DRB%', 'OWS','Total Minutes',  'WS/48', 'GS', 'PF', 'TS%', 'eFG%'], axis =1)\n",
        "df = df.drop(['STL%', 'BLK%', 'TOV%','TRB%'], axis =1)"
      ]
    },
    {
      "cell_type": "code",
      "execution_count": null,
      "metadata": {
        "id": "qgtHeQddSEAN"
      },
      "outputs": [],
      "source": [
        "avgScore = df['Season Score'].mean()\n",
        "scoreDiff = []\n",
        "for index, row in df.iterrows():\n",
        "  scoreDiff.append((row['Season Score']-avgScore).round(2))\n",
        "df['ScoreDiff'] = scoreDiff"
      ]
    },
    {
      "cell_type": "code",
      "execution_count": null,
      "metadata": {
        "id": "oljyjOVkOqe0"
      },
      "outputs": [],
      "source": [
        "# Creating a metric comparing a player's contract to his production over a season\n",
        "def ContractValue (datfram, player):\n",
        "  conval = (((datfram.loc[player,'Season Score'] + datfram.loc[player,'ScoreDiff'])/ datfram.loc[player,'Salary']))*10**5\n",
        "  return conval"
      ]
    },
    {
      "cell_type": "code",
      "execution_count": null,
      "metadata": {
        "id": "0ziKMCkIRQPd"
      },
      "outputs": [],
      "source": [
        "conval = []\n",
        "for index,row in df.iterrows():\n",
        "  conval.append(ContractValue(df,index).round(3))\n",
        "df['Contract Value'] = conval"
      ]
    },
    {
      "cell_type": "code",
      "execution_count": null,
      "metadata": {
        "id": "5RHSE9LeVMWd"
      },
      "outputs": [],
      "source": [
        "salaries = df.loc[:,'Salary']\n",
        "SeaScore = df.loc[:,'Season Score']\n",
        "#plt.plot(SeaScore, salaries,'o')\n",
        "df2 = {'Salary': df['Salary'], 'Season Score': df['Season Score']}"
      ]
    },
    {
      "cell_type": "code",
      "execution_count": null,
      "metadata": {
        "id": "8SSLKANFW7k0"
      },
      "outputs": [],
      "source": [
        "str1 = \"LeBron James, Giannis Antetokounmpo, Jayson Tatum, Donovan Mitchell, Kyrie Irving, Luka Doncic, Nikola Jokic, Joel Embiid, Ja Morant, Lauri Markkanen, Bam Adebayo, Jaylen Brown, DeMar DeRozan, Tyrese Haliburton, Jrue Holiday, Julius Randle, Pascal Siakam, Anthony Edwards, Paul George, Shai Gilgeous-Alexander, Jaren Jackson Jr., Damian Lillard, Domantas Sabonis, Jaylen Brown, Stephen Curry, Luka Doncic, Anthony Edwards, Joel Embiid, Paul George, Tyrese Haliburton, Kyrie Irving, Jaren Jackson Jr., LeBron James, Nikola Jokic, Julius Randle, Zion Williamson, Bam Adebayo, Giannis Antetokounmpo, DeMar DeRozan, Kevin Durant, Shai Gilgeous-Alexander, Jrue Holiday, Damian Lillard, Lauri Markkanen, Donovan Mitchell, Ja Morant, Domantas Sabonis, Pascal Siakam, Jayson Tatum, Jarrett Allen, Giannis Antetokounmpo, Jimmy Butler, Stephen Curry, DeMar DeRozan, Luka Doncic, Darius Garland, Draymond Green, James Harden, LeBron James, Nikola Jokic, Donovan Mitchell, Chris Paul, Fred VanVleet, LaMelo Ball, Devin Booker, Kevin Durant, Joel Embiid, Rudy Gobert, Zach LaVine, Khris Middleton, Ja Morant, Dejounte Murray, Jayson Tatum, Karl-Anthony Towns, Andrew Wiggins, Trae Young, Bradley Beal, Devin Booker, Mike Conley, Kevin Durant, Joel Embiid, James Harden, Kyrie Irving, Zach LaVine, Kawhi Leonard, Donovan Mitchell, Julius Randle, Jayson Tatum, Nikola Vucevic, Zion Williamson, Giannis Antetokounmpo, Jaylen Brown, Stephen Curry, Anthony Davis, Luka Doncic, Paul George, Rudy Gobert, LeBron James, Nikola Jokic, Damian Lillard, Chris Paul, Domantas Sabonis, Ben Simmons\"\n",
        "str2 = \"\"\"\n",
        "Shai Gilgeous-Alexander\n",
        "Luka Doncic\n",
        "Joel Embiid\n",
        "Jayson Tatum\n",
        "Giannis Antetokounmpo\n",
        "Stephen Curry\n",
        "Donovan Mitchell\n",
        "Jimmy Butler\n",
        "Nikola Jokic\n",
        "Jaylen Brown\n",
        "Damian Lillard\n",
        "De'Aaron Fox\n",
        "LeBron James\n",
        "Julius Randle\n",
        "Domantas Sabonis\n",
        "Giannis Antetokounmpo\n",
        "Jayson Tatum\n",
        "Nikola Jokic\n",
        "Devin Booker\n",
        "Luka Doncic\n",
        "Stephen Curry\n",
        "Ja Morant\n",
        "Kevin Durant\n",
        "DeMar DeRozan\n",
        "Joel Embiid\n",
        "Trae Young\n",
        "Chris Paul\n",
        "LeBron James\n",
        "Pascal Siakam\n",
        "Karl-Anthony Towns\n",
        "Stephen Curry\n",
        "Luka Doncic\n",
        "Kawhi Leonard\n",
        "Nikola Jokic\n",
        "Giannis Antetokounmpo\n",
        "Damian Lillard\n",
        "Joel Embiid\n",
        "Chris Paul\n",
        "Julius Randle\n",
        "LeBron James\n",
        "Rudy Gobert\n",
        "Jimmy Butler\n",
        "Paul George\n",
        "Bradley Beal\n",
        "Kyrie Irving\"\"\""
      ]
    },
    {
      "cell_type": "code",
      "execution_count": null,
      "metadata": {
        "id": "myDbL5Jxd4Tu"
      },
      "outputs": [],
      "source": [
        "allstar = str1.split(', ')\n",
        "allnba = str2.split('\\n')\n",
        "stars = allstar + allnba\n",
        "def dupe_check(lst1):\n",
        "  newstr = []\n",
        "  for player in lst1:\n",
        "    player = player.strip()\n",
        "    if player not in newstr:\n",
        "      newstr.append(player)\n",
        "  return newstr\n",
        "stars = dupe_check(stars)"
      ]
    },
    {
      "cell_type": "code",
      "execution_count": null,
      "metadata": {
        "id": "QIP2h09RgMUI"
      },
      "outputs": [],
      "source": [
        "starcheck = []\n",
        "for index, rows in df.iterrows():\n",
        "  if index in stars:\n",
        "    starcheck.append(True)\n",
        "  else:\n",
        "    starcheck.append(False)\n",
        "df['Star'] = starcheck"
      ]
    },
    {
      "cell_type": "code",
      "execution_count": null,
      "metadata": {
        "id": "JteJVgmHPYbD"
      },
      "outputs": [],
      "source": [
        "stars = df[df['Star'] == True]\n",
        "stars.drop(['Star'], axis = 1)"
      ]
    },
    {
      "cell_type": "markdown",
      "source": [
        "# Graphs"
      ],
      "metadata": {
        "id": "VfMQ1eOaXoqI"
      }
    },
    {
      "cell_type": "code",
      "source": [
        "SeaScore = df['Season Score']\n",
        "SeaScore2 = stars['Season Score']\n",
        "Salary = df['Salary']\n",
        "Salary2 = stars['Salary']\n",
        "plt.xlabel('Season Score', fontsize=10)\n",
        "plt.ylabel('Salary', fontsize=10)\n",
        "plt.plot(SeaScore, Salary, 'o')\n",
        "plt.plot(SeaScore2, Salary2, 'or')"
      ],
      "metadata": {
        "id": "qQTEbPP5BXUr"
      },
      "execution_count": null,
      "outputs": []
    },
    {
      "cell_type": "code",
      "source": [
        "# Graphically comparing player perfomance to player salary, allows viewers to identify best and worst value contracts in the NBA\n",
        "# Best Value: Tyrese Haliburton\n",
        "# Worst Value: John Wall\n",
        "import plotly.express as px\n",
        "\n",
        "fig = px.scatter(df, x=\"Season Score\", y=\"Salary\", log_x=True,\n",
        "                 hover_name=\"Player Name\", hover_data=[\"Season Score\", \"Salary\"])\n",
        "\n",
        "# Graphing performance vs contract for All-Stars from the last three years\n",
        "fig2 = px.scatter(stars, x=\"Season Score\", y=\"Salary\", log_x=True,\n",
        "                 hover_name=\"Player Name\", hover_data=[\"Season Score\", \"Salary\"])\n",
        "\n",
        "fig.show()\n",
        "fig2.show()"
      ],
      "metadata": {
        "colab": {
          "base_uri": "https://localhost:8080/",
          "height": 1000
        },
        "id": "ViLUCsHLC0ox",
        "outputId": "a7d9d047-883a-4c67-aa21-d9ea16484c90"
      },
      "execution_count": null,
      "outputs": [
        {
          "output_type": "display_data",
          "data": {
            "text/html": [
              "<html>\n",
              "<head><meta charset=\"utf-8\" /></head>\n",
              "<body>\n",
              "    <div>            <script src=\"https://cdnjs.cloudflare.com/ajax/libs/mathjax/2.7.5/MathJax.js?config=TeX-AMS-MML_SVG\"></script><script type=\"text/javascript\">if (window.MathJax && window.MathJax.Hub && window.MathJax.Hub.Config) {window.MathJax.Hub.Config({SVG: {font: \"STIX-Web\"}});}</script>                <script type=\"text/javascript\">window.PlotlyConfig = {MathJaxConfig: 'local'};</script>\n",
              "        <script charset=\"utf-8\" src=\"https://cdn.plot.ly/plotly-2.24.1.min.js\"></script>                <div id=\"0b324e12-6412-4b8c-8466-cc38c3a0804f\" class=\"plotly-graph-div\" style=\"height:525px; width:100%;\"></div>            <script type=\"text/javascript\">                                    window.PLOTLYENV=window.PLOTLYENV || {};                                    if (document.getElementById(\"0b324e12-6412-4b8c-8466-cc38c3a0804f\")) {                    Plotly.newPlot(                        \"0b324e12-6412-4b8c-8466-cc38c3a0804f\",                        [{\"hovertemplate\":\"\\u003cb\\u003e%{hovertext}\\u003c\\u002fb\\u003e\\u003cbr\\u003e\\u003cbr\\u003eSeason Score=%{x}\\u003cbr\\u003eSalary=%{y}\\u003cextra\\u003e\\u003c\\u002fextra\\u003e\",\"hovertext\":[\"Stephen Curry\",\"John Wall\",\"Russell Westbrook\",\"LeBron James\",\"Kevin Durant\",\"Bradley Beal\",\"Kawhi Leonard\",\"Paul George\",\"Giannis Antetokounmpo\",\"Damian Lillard\",\"Klay Thompson\",\"Kyrie Irving\",\"Rudy Gobert\",\"Khris Middleton\",\"Anthony Davis\",\"Jimmy Butler\",\"Tobias Harris\",\"Kemba Walker\",\"Trae Young\",\"Zach LaVine\",\"Ben Simmons\",\"Pascal Siakam\",\"Myles Turner\",\"Jrue Holiday\",\"Karl-Anthony Towns\",\"Devin Booker\",\"Andrew Wiggins\",\"Joel Embiid\",\"CJ McCollum\",\"James Harden\",\"Jamal Murray\",\"Brandon Ingram\",\"D'Angelo Russell\",\"Donovan Mitchell\",\"Shai Gilgeous-Alexander\",\"Deandre Ayton\",\"Kevin Love\",\"Jayson Tatum\",\"Bam Adebayo\",\"De'Aaron Fox\",\"Gordon Hayward\",\"Jaylen Brown\",\"Chris Paul\",\"Kyle Lowry\",\"Jalen Brunson\",\"DeMar DeRozan\",\"Al Horford\",\"Draymond Green\",\"Julius Randle\",\"John Collins\",\"Mike Conley\",\"Malcolm Brogdon\",\"Anfernee Simons\",\"Terry Rozier\",\"Fred VanVleet\",\"Buddy Hield\",\"Domantas Sabonis\",\"Jerami Grant\",\"Aaron Gordon\",\"Mikal Bridges\",\"Jarrett Allen\",\"Nicolas Batum\",\"Eric Gordon\",\"Spencer Dinwiddie\",\"Caris LeVert\",\"Joe Harris\",\"Harrison Barnes\",\"Clint Capela\",\"Evan Fournier\",\"Steven Adams\",\"Jonathan Isaac\",\"OG Anunoby\",\"Marcus Smart\",\"Derrick White\",\"Dejounte Murray\",\"Mitchell Robinson\",\"Duncan Robinson\",\"Norman Powell\",\"Collin Sexton\",\"Markelle Fultz\",\"Lauri Markkanen\",\"Marcus Morris\",\"Malik Beasley\",\"Luguentz Dort\",\"Will Barton\",\"Tyus Jones\",\"Derrick Rose\",\"Kevin Huerter\",\"Christian Wood\",\"Kentavious Caldwell-Pope\",\"Brook Lopez\",\"Patrick Beverley\",\"Doug McDermott\",\"Luke Kennard\",\"Zion Williamson\",\"Jordan Clarkson\",\"Gary Harris\",\"Kyle Kuzma\",\"Josh Hart\",\"Dorian Finney-Smith\",\"Kelly Olynyk\",\"Chris Boucher\",\"Robert Covington\",\"Josh Richardson\",\"Ja Morant\",\"Danny Green\",\"Terrence Ross\",\"Reggie Jackson\",\"Dillon Brooks\",\"Richaun Holmes\",\"Dwight Powell\",\"Paolo Banchero\",\"RJ Barrett\",\"Bobby Portis\",\"DeAndre Jordan\",\"Anthony Edwards\",\"Robert Williams\",\"Cade Cunningham\",\"Mo Bamba\",\"Talen Horton-Tucker\",\"Jae Crowder\",\"Ivica Zubac\",\"Reggie Bullock\",\"Alec Burks\",\"De'Andre Hunter\",\"James Wiseman\",\"Landry Shamet\",\"Malik Monk\",\"Jalen Green\",\"Jakob Poeltl\",\"Nerlens Noel\",\"Royce O'Neale\",\"Monte Morris\",\"Mason Plumlee\",\"Alex Caruso\",\"Maxi Kleber\",\"Grayson Allen\",\"Darius Garland\",\"Isaiah Hartenstein\",\"Kyle Anderson\",\"Victor Oladipo\",\"Daniel Theis\",\"LaMelo Ball\",\"Seth Curry\",\"Evan Mobley\",\"Gary Payton II\",\"Dewayne Dedmon\",\"De'Anthony Melton\",\"JaMychal Green\",\"Keegan Murray\",\"Kevon Looney\",\"Thaddeus Young\",\"Delon Wright\",\"Patrick Williams\",\"Scottie Barnes\",\"Cedi Osman\",\"Coby White\",\"Zach Collins\",\"Jaden Ivey\",\"Taurean Prince\",\"Jae'Sean Tate\",\"Isaac Okoro\",\"Cody Martin\",\"Jalen Suggs\",\"Jaxson Hayes\",\"Khem Birch\",\"Bennedict Mathurin\",\"Bruce Brown\",\"Caleb Martin\",\"Joe Ingles\",\"Onyeka Okongwu\",\"Josh Giddey\",\"Rui Hachimura\",\"Rudy Gay\",\"Jevon Carter\",\"Shaedon Sharpe\",\"Cameron Payne\",\"Justin Holiday\",\"Cam Reddish\",\"Cameron Johnson\",\"Ricky Rubio\",\"Killian Hayes\",\"Jonathan Kuminga\",\"Pat Connaughton\",\"Tyler Herro\",\"Romeo Langford\",\"Dyson Daniels\",\"JaVale McGee\",\"Goga Bitadze\",\"Obi Toppin\",\"Franz Wagner\",\"Kendrick Nunn\",\"Hamidou Diallo\",\"Cory Joseph\",\"Garrett Temple\",\"Torrey Craig\",\"Jeremy Sochan\",\"Nickeil Alexander-Walker\",\"Furkan Korkmaz\",\"Deni Avdija\",\"Davion Mitchell\",\"Johnny Davis\",\"Ty Jerome\",\"Jalen Smith\",\"Ziaire Williams\",\"Ousmane Dieng\",\"Jeff Green\",\"Donte DiVincenzo\",\"Devin Vassell\",\"Matisse Thybulle\",\"Jarred Vanderbilt\",\"James Bouknight\",\"Brandon Clarke\",\"Jalen Williams\",\"Grant Williams\",\"Darius Bazley\",\"Tyrese Haliburton\",\"Nassir Little\",\"Jalen Duren\",\"Gorgui Dieng\",\"Justise Winslow\",\"Dylan Windler\",\"Stanley Johnson\",\"George Hill\",\"Terence Davis\",\"Chris Duarte\",\"Alex Len\",\"Ochai Agbaji\",\"Jordan Poole\",\"Keldon Johnson\",\"James Johnson\",\"Aaron Nesmith\",\"Moses Moody\",\"Mark Williams\",\"Cole Anthony\",\"Corey Kispert\",\"AJ Griffin\",\"Mike Muscala\",\"Georges Niang\",\"Isaiah Stewart\",\"Chuma Okeke\",\"Amir Coffey\",\"Tari Eason\",\"Aleksej Pokusevski\",\"Simone Fontecchio\",\"Andre Drummond\",\"Dalen Terry\",\"Sterling Brown\",\"Josh Green\",\"Jake LaRavia\",\"Tre Mann\",\"Kevin Knox\",\"Saddiq Bey\",\"Malaki Branham\",\"Joe Wieskamp\",\"Kai Jones\",\"Blake Griffin\",\"Robin Lopez\",\"Markieff Morris\",\"Andre Iguodala\",\"Serge Ibaka\",\"Udonis Haslem\",\"Wesley Matthews\",\"Austin Rivers\",\"Bismack Biyombo\",\"Taj Gibson\",\"Precious Achiuwa\",\"Christian Braun\",\"Jordan Nwora\",\"Jalen Johnson\",\"Tyrese Maxey\",\"Bruno Fernando\",\"Walker Kessler\",\"Keon Johnson\",\"Charles Bassey\",\"Matthew Dellavedova\",\"Trey Lyles\",\"Zeke Nnaji\",\"David Roddy\",\"Isaiah Jackson\",\"MarJon Beauchamp\",\"Usman Garuba\",\"Raul Neto\",\"Frank Kaminsky\",\"Montrezl Harrell\",\"Blake Wesley\",\"Josh Christopher\",\"Isaiah Roby\",\"Lindy Waters III\",\"Immanuel Quickley\",\"John Konchar\",\"Rodney McGruder\",\"Bryn Forbes\",\"Damian Jones\",\"Quentin Grimes\",\"Saben Lee\",\"Andrew Nembhard\",\"Payton Pritchard\",\"Bones Hyland\",\"Bol Bol\",\"Peyton Watson\",\"Udoka Azubuike\",\"Jaden McDaniels\",\"Jordan McLaughlin\",\"Malachi Flynn\",\"Cam Thomas\",\"Luke Kornet\",\"Damion Lee\",\"Juan Toscano-Anderson\",\"Desmond Bane\",\"Jaden Springer\",\"Day'Ron Sharpe\",\"Tony Bradley\",\"Frank Ntilikina\",\"Garrison Mathews\",\"Jaylin Williams\",\"Jeremiah Robinson-Earl\",\"Kenrich Williams\",\"Caleb Houstan\",\"Shake Milton\",\"Aaron Holiday\",\"Yuta Watanabe\",\"Edmond Sumner\",\"Theo Pinson\",\"Thomas Bryant\",\"Josh Okogie\",\"Drew Eubanks\",\"Dean Wade\",\"Terance Mann\",\"Jaylen Nowell\",\"Naz Reid\",\"Jalen McDaniels\",\"Daniel Gafford\",\"Chimezie Metu\",\"Davon Reed\",\"KZ Okpala\",\"Wenyen Gabriel\",\"Thanasis Antetokounmpo\",\"Moritz Wagner\",\"Keita Bates-Diop\",\"Oshae Brissett\",\"Nathan Knight\",\"Justin Jackson\",\"Isaiah Joe\",\"Ryan Arcidiacono\",\"Anthony Gill\",\"Javonte Green\",\"Gabe Vincent\",\"Max Strus\",\"Nick Richards\",\"Lamar Stevens\",\"Naji Marshall\",\"Paul Reed\",\"Tre Jones\",\"Haywood Highsmith\",\"Omer Yurtseven\",\"Leandro Bolmaro\",\"Terry Taylor\",\"Jared Butler\",\"Jericho Sims\",\"Sam Hauser\",\"Kessler Edwards\",\"Isaiah Todd\",\"Vit Krejci\",\"JT Thor\",\"Marko Simonovic\",\"Ayo Dosunmu\",\"Isaiah Livers\",\"Daishen Nix\",\"Jason Preston\",\"Austin Reaves\",\"Jose Alvarado\",\"Miles McBride\",\"Aaron Wiggins\",\"Jock Landale\",\"Trendon Watford\",\"Dalano Banton\",\"Christian Koloko\",\"Bryce McGowens\",\"Jordan Goodwin\",\"Kennedy Chandler\",\"Noah Vonleh\",\"Sandro Mamukelashvili\",\"Sam Merrill\",\"Tyrese Martin\",\"Jaden Hardy\",\"Ryan Rollins\",\"Max Christie\",\"Josh Minott\",\"Jabari Walker\",\"Eugene Omoruyi\",\"Kris Dunn\",\"Admiral Schofield\",\"Justin Champagnie\",\"Trevelin Queen\",\"Moses Brown\",\"Matt Ryan\",\"PJ Dozier\",\"Cody Zeller\",\"Meyers Leonard\",\"Anthony Lamb\",\"Michael Carter-Williams\",\"Carlik Jones\",\"Trevor Keels\",\"Dereon Seabron\",\"Trent Forrest\",\"Mfiondu Kabengele\",\"JD Davison\",\"Malcolm Hill\",\"Mamadi Diakite\",\"Isaiah Mobley\",\"Jack White\",\"Buddy Boeheim\",\"Darius Days\",\"Trevor Hudgins\",\"Kendall Brown\",\"Cole Swider\",\"Jamal Cain\",\"Luka Garza\",\"Kevon Harris\",\"Keon Ellis\",\"Neemias Queta\",\"Dominick Barlow\",\"Julian Champagnie\",\"Jeff Dowtin\",\"Micah Potter\",\"Johnny Juzang\",\"John Butler\",\"Chima Moneke\",\"Facundo Campazzo\",\"Orlando Robinson\",\"Dru Smith\",\"Jared Rhoden\",\"Louis King\",\"Jarrett Culver\",\"Olivier Sarr\",\"Alondes Williams\",\"Donovan Williams\",\"Quenton Jackson\",\"Chris Silva\",\"Tyler Dorsey\",\"Braxton Key\",\"Jordan Hall\",\"Alize Johnson\",\"Devon Dotson\",\"Mac McClung\",\"Xavier Cooks\",\"Shaquille Harrison\",\"Lester Quinones\",\"Xavier Moon\",\"Jamaree Bouyea\",\"Jay Huff\",\"Skylar Mays\",\"Frank Jackson\",\"Deonte Burton\",\"Jarrell Brantley\",\"Xavier Sneed\",\"Lindell Wigginton\",\"Jordan Schakel\",\"Stanley Umude\",\"Jeenathan Williams\",\"Jay Scrubb\",\"Justin Minaya\",\"Kobi Simmons\",\"Gabe York\",\"RaiQuan Gray\",\"Jacob Gilyard\",\"Luka Doncic\",\"Nikola Jokic\",\"Jaren Jackson Jr.\",\"Nikola Vucevic\"],\"legendgroup\":\"\",\"marker\":{\"color\":\"#636efa\",\"symbol\":\"circle\"},\"mode\":\"markers\",\"name\":\"\",\"orientation\":\"v\",\"showlegend\":false,\"x\":[23.44,8.73,13.47,23.16,23.95,17.65,20.36,18.23,25.01,25.86,14.75,21.74,14.63,11.74,24.0,22.68,12.89,6.18,21.54,18.42,9.11,19.77,15.6,17.3,16.57,20.84,13.03,27.75,15.69,20.79,16.4,18.1,14.93,21.31,25.8,15.89,7.58,23.78,17.78,19.9,11.97,19.0,15.31,10.45,19.27,19.81,10.93,10.84,19.11,11.0,12.35,12.95,14.5,15.15,16.73,13.61,21.02,15.43,15.3,16.4,15.46,6.72,9.59,14.96,10.32,6.41,13.0,14.35,3.64,11.36,5.54,13.36,10.8,11.83,17.12,11.3,4.03,12.19,10.67,13.21,20.51,8.28,8.84,10.08,5.5,11.08,3.84,12.48,13.67,10.07,14.57,6.68,7.05,7.9,21.29,14.06,6.92,14.49,11.8,7.44,11.35,9.29,5.96,8.61,21.04,3.35,6.46,7.56,9.0,3.14,7.42,14.49,12.58,12.53,5.71,17.84,10.76,13.1,6.51,8.39,6.9,11.89,6.59,10.01,10.55,8.16,6.49,10.89,14.57,13.98,2.31,8.34,11.02,13.01,7.16,5.47,9.46,17.68,7.03,11.28,7.9,5.85,17.68,6.99,15.47,5.45,4.45,9.51,6.15,10.21,10.86,5.25,9.91,8.88,14.16,6.98,8.41,10.36,11.24,6.58,6.99,6.14,4.35,8.09,4.81,2.14,11.55,10.6,8.82,6.76,11.21,14.84,8.7,4.17,7.12,7.66,8.13,3.23,7.24,12.7,5.06,8.81,8.16,6.88,14.8,5.79,4.52,3.75,5.1,6.03,14.42,5.16,7.46,6.7,1.95,7.76,8.67,5.38,2.98,8.63,5.42,3.54,6.7,8.33,3.64,4.09,6.2,9.56,13.58,4.95,9.79,3.26,10.11,12.88,7.65,5.16,21.17,5.33,10.64,3.51,6.49,1.53,5.67,5.43,5.25,5.45,2.18,5.85,13.9,14.92,2.14,7.81,4.36,9.57,11.21,9.04,7.11,5.61,6.3,9.73,4.68,2.86,9.0,7.31,4.04,6.99,2.34,1.05,7.49,2.41,5.7,5.03,11.27,7.04,0.22,3.63,4.66,2.6,3.17,2.81,2.94,1.93,3.48,4.44,5.42,3.18,8.13,4.75,6.91,5.92,15.27,4.43,12.06,3.2,6.69,1.62,6.98,4.59,5.13,7.69,3.52,4.65,3.79,2.93,5.55,2.87,4.49,3.36,4.43,12.64,6.42,4.73,2.33,3.98,9.39,5.41,8.41,4.29,8.67,8.51,2.98,4.2,10.19,4.97,3.6,7.37,5.18,6.61,3.05,16.73,2.42,5.16,1.62,2.31,3.84,5.83,6.59,8.46,3.07,7.7,3.9,5.36,5.67,2.65,9.53,7.03,8.26,4.6,8.49,7.95,9.38,8.08,10.08,5.2,1.75,1.52,5.93,1.52,9.03,9.24,5.55,3.27,1.1,8.04,1.03,3.47,5.44,6.93,8.72,8.92,4.94,7.95,5.45,13.21,4.38,3.59,-0.22,2.68,4.44,5.11,6.07,2.65,0.36,1.33,3.46,0.15,7.72,5.34,3.15,2.54,11.8,7.54,3.26,6.38,6.33,7.22,3.73,4.01,3.97,7.21,2.63,1.25,5.81,4.5,1.12,6.23,0.45,2.9,2.99,3.51,4.98,12.77,3.48,1.88,1.96,4.51,2.39,1.11,5.76,3.75,6.12,2.94,2.48,0.46,0.38,2.34,1.67,1.7,0.76,2.06,2.48,1.37,0.53,3.09,0.9,1.54,1.24,5.32,5.39,3.38,1.73,2.24,4.53,7.03,2.67,3.37,2.61,1.97,-0.23,1.46,4.39,3.14,2.55,14.51,3.47,3.58,-2.09,0.97,4.83,-0.09,2.67,1.34,1.73,1.18,0.98,10.07,4.16,10.62,1.35,1.21,2.3,7.15,15.24,-0.39,-0.68,4.59,3.11,4.25,1.67,3.01,9.18,5.22,2.54,1.4,6.03,13.51,7.21,26.73,26.85,15.82,16.51],\"xaxis\":\"x\",\"y\":[48070014,47345760,47080179,44474988,44119845,43279250,42492492,42492492,42492492,42492492,40600080,38917057,38172414,37984276,37980720,37653300,37633050,37281261,37096500,37096500,35448672,35448672,35096500,34319520,33833400,33833400,33616770,33616770,33333333,33000000,31650600,31650600,31377750,30913750,30913750,30913750,30556968,30351780,30351780,30351780,30075000,29776785,28400000,28333334,27733332,27300000,26500000,25806468,23760000,23500000,22680000,22600000,22321429,21486316,21250000,21177750,21100000,20955000,20690909,20100000,20000000,19700319,19568360,19500000,18796296,18642857,18352273,18206896,18000000,17926829,17400000,17357143,17207142,17142857,17071120,17045454,16902000,16758621,16700000,16500000,16475454,16372093,15558035,15277778,15059712,15000000,14520730,14508929,14317459,14004703,13906976,13801614,13750000,13745455,13534817,13340000,13000000,13000000,12960000,12939848,12804878,12690000,12307692,12196094,12119440,11710528,11500000,11457217,11400000,11215260,11080125,11055120,10900634,10843350,10733758,10733400,10714287,10552800,10300000,10260000,10183800,10123457,10012800,10012800,9835881,9603360,9500000,9472219,9441840,9398148,9391069,9200000,9125000,9080417,9030000,9000000,8925000,8920794,8854879,8780488,8750000,8694369,8623920,8496653,8478720,8300000,8283688,8250000,8200000,8008440,8000000,8000000,7804878,7775400,7644600,7426088,7413955,7350000,7252200,7100000,7065217,7040880,7000000,6922320,6803012,6667500,6586800,6479000,6479000,6479000,6395160,6287400,6263188,6184500,6025000,6012960,6000000,5987975,5954454,5887899,5853659,5837760,5739840,5728393,5722116,5634257,5508600,5461219,5377520,5348280,5258280,5250000,5200000,5155500,5155500,5121951,5063520,5009633,5000000,4916160,4833600,4810320,4728948,4670160,4591680,4569840,4500000,4500000,4437000,4379526,4374000,4362240,4343919,4341480,4306281,4264628,4215120,4171548,4124280,4105236,4097561,4037277,4022164,4000000,4000000,3936960,3918600,3918360,3901399,3873024,3841067,3804360,3740160,3722040,3613680,3552840,3536160,3500000,3465000,3433320,3433320,3395062,3359160,3261480,3205128,3200000,3191400,3122602,3098400,3047640,3046200,3000000,2959080,2925600,2909261,2909040,2905851,2905851,2905851,2905851,2905851,2905851,2905851,2905851,2905851,2905851,2840160,2808600,2800000,2792640,2726880,2717391,2696400,2681040,2674742,2628597,2625000,2617800,2588640,2573760,2485200,2471160,2463490,2463490,2463490,2385480,2372160,2330681,2316876,2316240,2300000,2298385,2298385,2298385,2277000,2266640,2244111,2239200,2201520,2200000,2193960,2174880,2161440,2160000,2145720,2138160,2133278,2133278,2133278,2130240,2125200,2109480,2036318,2036318,2000000,2000000,2000000,2000000,2000000,1997718,1968175,1968175,1968175,1968175,1968175,1968175,1968175,1930681,1930681,1930681,1930681,1930681,1930681,1910860,1902133,1902133,1878720,1878720,1878720,1878720,1846738,1836090,1836090,1836090,1836090,1836090,1815677,1815677,1815677,1782621,1782621,1782621,1782621,1782621,1752638,1752638,1709300,1703902,1674655,1639842,1637966,1637966,1575000,1563518,1563518,1563518,1563518,1563518,1563518,1563518,1563518,1563518,1563518,1563518,1563518,1563518,1563518,1500000,1461055,1280206,1200000,1160955,1116112,1105522,1017781,1017781,1017781,1017781,1017781,1017781,1013119,1000001,877940,853241,838891,824041,806097,784654,743922,713558,694878,652829,612162,520589,511816,508891,508891,508891,508891,508891,508891,508891,508891,508891,508891,508891,508891,508891,508891,508891,508891,508891,508891,508891,508891,508891,508891,503041,500000,464299,386055,374357,307089,307089,260295,257371,254446,239822,219630,211045,201802,201802,193027,192293,169630,160856,140384,134862,129405,116986,116986,116986,116574,113114,105522,105522,102910,99438,96514,58493,52644,49719,35096,32795,32171,5849,5849,37096500,33047803,28946605,22000000],\"yaxis\":\"y\",\"type\":\"scatter\"}],                        {\"template\":{\"data\":{\"histogram2dcontour\":[{\"type\":\"histogram2dcontour\",\"colorbar\":{\"outlinewidth\":0,\"ticks\":\"\"},\"colorscale\":[[0.0,\"#0d0887\"],[0.1111111111111111,\"#46039f\"],[0.2222222222222222,\"#7201a8\"],[0.3333333333333333,\"#9c179e\"],[0.4444444444444444,\"#bd3786\"],[0.5555555555555556,\"#d8576b\"],[0.6666666666666666,\"#ed7953\"],[0.7777777777777778,\"#fb9f3a\"],[0.8888888888888888,\"#fdca26\"],[1.0,\"#f0f921\"]]}],\"choropleth\":[{\"type\":\"choropleth\",\"colorbar\":{\"outlinewidth\":0,\"ticks\":\"\"}}],\"histogram2d\":[{\"type\":\"histogram2d\",\"colorbar\":{\"outlinewidth\":0,\"ticks\":\"\"},\"colorscale\":[[0.0,\"#0d0887\"],[0.1111111111111111,\"#46039f\"],[0.2222222222222222,\"#7201a8\"],[0.3333333333333333,\"#9c179e\"],[0.4444444444444444,\"#bd3786\"],[0.5555555555555556,\"#d8576b\"],[0.6666666666666666,\"#ed7953\"],[0.7777777777777778,\"#fb9f3a\"],[0.8888888888888888,\"#fdca26\"],[1.0,\"#f0f921\"]]}],\"heatmap\":[{\"type\":\"heatmap\",\"colorbar\":{\"outlinewidth\":0,\"ticks\":\"\"},\"colorscale\":[[0.0,\"#0d0887\"],[0.1111111111111111,\"#46039f\"],[0.2222222222222222,\"#7201a8\"],[0.3333333333333333,\"#9c179e\"],[0.4444444444444444,\"#bd3786\"],[0.5555555555555556,\"#d8576b\"],[0.6666666666666666,\"#ed7953\"],[0.7777777777777778,\"#fb9f3a\"],[0.8888888888888888,\"#fdca26\"],[1.0,\"#f0f921\"]]}],\"heatmapgl\":[{\"type\":\"heatmapgl\",\"colorbar\":{\"outlinewidth\":0,\"ticks\":\"\"},\"colorscale\":[[0.0,\"#0d0887\"],[0.1111111111111111,\"#46039f\"],[0.2222222222222222,\"#7201a8\"],[0.3333333333333333,\"#9c179e\"],[0.4444444444444444,\"#bd3786\"],[0.5555555555555556,\"#d8576b\"],[0.6666666666666666,\"#ed7953\"],[0.7777777777777778,\"#fb9f3a\"],[0.8888888888888888,\"#fdca26\"],[1.0,\"#f0f921\"]]}],\"contourcarpet\":[{\"type\":\"contourcarpet\",\"colorbar\":{\"outlinewidth\":0,\"ticks\":\"\"}}],\"contour\":[{\"type\":\"contour\",\"colorbar\":{\"outlinewidth\":0,\"ticks\":\"\"},\"colorscale\":[[0.0,\"#0d0887\"],[0.1111111111111111,\"#46039f\"],[0.2222222222222222,\"#7201a8\"],[0.3333333333333333,\"#9c179e\"],[0.4444444444444444,\"#bd3786\"],[0.5555555555555556,\"#d8576b\"],[0.6666666666666666,\"#ed7953\"],[0.7777777777777778,\"#fb9f3a\"],[0.8888888888888888,\"#fdca26\"],[1.0,\"#f0f921\"]]}],\"surface\":[{\"type\":\"surface\",\"colorbar\":{\"outlinewidth\":0,\"ticks\":\"\"},\"colorscale\":[[0.0,\"#0d0887\"],[0.1111111111111111,\"#46039f\"],[0.2222222222222222,\"#7201a8\"],[0.3333333333333333,\"#9c179e\"],[0.4444444444444444,\"#bd3786\"],[0.5555555555555556,\"#d8576b\"],[0.6666666666666666,\"#ed7953\"],[0.7777777777777778,\"#fb9f3a\"],[0.8888888888888888,\"#fdca26\"],[1.0,\"#f0f921\"]]}],\"mesh3d\":[{\"type\":\"mesh3d\",\"colorbar\":{\"outlinewidth\":0,\"ticks\":\"\"}}],\"scatter\":[{\"fillpattern\":{\"fillmode\":\"overlay\",\"size\":10,\"solidity\":0.2},\"type\":\"scatter\"}],\"parcoords\":[{\"type\":\"parcoords\",\"line\":{\"colorbar\":{\"outlinewidth\":0,\"ticks\":\"\"}}}],\"scatterpolargl\":[{\"type\":\"scatterpolargl\",\"marker\":{\"colorbar\":{\"outlinewidth\":0,\"ticks\":\"\"}}}],\"bar\":[{\"error_x\":{\"color\":\"#2a3f5f\"},\"error_y\":{\"color\":\"#2a3f5f\"},\"marker\":{\"line\":{\"color\":\"#E5ECF6\",\"width\":0.5},\"pattern\":{\"fillmode\":\"overlay\",\"size\":10,\"solidity\":0.2}},\"type\":\"bar\"}],\"scattergeo\":[{\"type\":\"scattergeo\",\"marker\":{\"colorbar\":{\"outlinewidth\":0,\"ticks\":\"\"}}}],\"scatterpolar\":[{\"type\":\"scatterpolar\",\"marker\":{\"colorbar\":{\"outlinewidth\":0,\"ticks\":\"\"}}}],\"histogram\":[{\"marker\":{\"pattern\":{\"fillmode\":\"overlay\",\"size\":10,\"solidity\":0.2}},\"type\":\"histogram\"}],\"scattergl\":[{\"type\":\"scattergl\",\"marker\":{\"colorbar\":{\"outlinewidth\":0,\"ticks\":\"\"}}}],\"scatter3d\":[{\"type\":\"scatter3d\",\"line\":{\"colorbar\":{\"outlinewidth\":0,\"ticks\":\"\"}},\"marker\":{\"colorbar\":{\"outlinewidth\":0,\"ticks\":\"\"}}}],\"scattermapbox\":[{\"type\":\"scattermapbox\",\"marker\":{\"colorbar\":{\"outlinewidth\":0,\"ticks\":\"\"}}}],\"scatterternary\":[{\"type\":\"scatterternary\",\"marker\":{\"colorbar\":{\"outlinewidth\":0,\"ticks\":\"\"}}}],\"scattercarpet\":[{\"type\":\"scattercarpet\",\"marker\":{\"colorbar\":{\"outlinewidth\":0,\"ticks\":\"\"}}}],\"carpet\":[{\"aaxis\":{\"endlinecolor\":\"#2a3f5f\",\"gridcolor\":\"white\",\"linecolor\":\"white\",\"minorgridcolor\":\"white\",\"startlinecolor\":\"#2a3f5f\"},\"baxis\":{\"endlinecolor\":\"#2a3f5f\",\"gridcolor\":\"white\",\"linecolor\":\"white\",\"minorgridcolor\":\"white\",\"startlinecolor\":\"#2a3f5f\"},\"type\":\"carpet\"}],\"table\":[{\"cells\":{\"fill\":{\"color\":\"#EBF0F8\"},\"line\":{\"color\":\"white\"}},\"header\":{\"fill\":{\"color\":\"#C8D4E3\"},\"line\":{\"color\":\"white\"}},\"type\":\"table\"}],\"barpolar\":[{\"marker\":{\"line\":{\"color\":\"#E5ECF6\",\"width\":0.5},\"pattern\":{\"fillmode\":\"overlay\",\"size\":10,\"solidity\":0.2}},\"type\":\"barpolar\"}],\"pie\":[{\"automargin\":true,\"type\":\"pie\"}]},\"layout\":{\"autotypenumbers\":\"strict\",\"colorway\":[\"#636efa\",\"#EF553B\",\"#00cc96\",\"#ab63fa\",\"#FFA15A\",\"#19d3f3\",\"#FF6692\",\"#B6E880\",\"#FF97FF\",\"#FECB52\"],\"font\":{\"color\":\"#2a3f5f\"},\"hovermode\":\"closest\",\"hoverlabel\":{\"align\":\"left\"},\"paper_bgcolor\":\"white\",\"plot_bgcolor\":\"#E5ECF6\",\"polar\":{\"bgcolor\":\"#E5ECF6\",\"angularaxis\":{\"gridcolor\":\"white\",\"linecolor\":\"white\",\"ticks\":\"\"},\"radialaxis\":{\"gridcolor\":\"white\",\"linecolor\":\"white\",\"ticks\":\"\"}},\"ternary\":{\"bgcolor\":\"#E5ECF6\",\"aaxis\":{\"gridcolor\":\"white\",\"linecolor\":\"white\",\"ticks\":\"\"},\"baxis\":{\"gridcolor\":\"white\",\"linecolor\":\"white\",\"ticks\":\"\"},\"caxis\":{\"gridcolor\":\"white\",\"linecolor\":\"white\",\"ticks\":\"\"}},\"coloraxis\":{\"colorbar\":{\"outlinewidth\":0,\"ticks\":\"\"}},\"colorscale\":{\"sequential\":[[0.0,\"#0d0887\"],[0.1111111111111111,\"#46039f\"],[0.2222222222222222,\"#7201a8\"],[0.3333333333333333,\"#9c179e\"],[0.4444444444444444,\"#bd3786\"],[0.5555555555555556,\"#d8576b\"],[0.6666666666666666,\"#ed7953\"],[0.7777777777777778,\"#fb9f3a\"],[0.8888888888888888,\"#fdca26\"],[1.0,\"#f0f921\"]],\"sequentialminus\":[[0.0,\"#0d0887\"],[0.1111111111111111,\"#46039f\"],[0.2222222222222222,\"#7201a8\"],[0.3333333333333333,\"#9c179e\"],[0.4444444444444444,\"#bd3786\"],[0.5555555555555556,\"#d8576b\"],[0.6666666666666666,\"#ed7953\"],[0.7777777777777778,\"#fb9f3a\"],[0.8888888888888888,\"#fdca26\"],[1.0,\"#f0f921\"]],\"diverging\":[[0,\"#8e0152\"],[0.1,\"#c51b7d\"],[0.2,\"#de77ae\"],[0.3,\"#f1b6da\"],[0.4,\"#fde0ef\"],[0.5,\"#f7f7f7\"],[0.6,\"#e6f5d0\"],[0.7,\"#b8e186\"],[0.8,\"#7fbc41\"],[0.9,\"#4d9221\"],[1,\"#276419\"]]},\"xaxis\":{\"gridcolor\":\"white\",\"linecolor\":\"white\",\"ticks\":\"\",\"title\":{\"standoff\":15},\"zerolinecolor\":\"white\",\"automargin\":true,\"zerolinewidth\":2},\"yaxis\":{\"gridcolor\":\"white\",\"linecolor\":\"white\",\"ticks\":\"\",\"title\":{\"standoff\":15},\"zerolinecolor\":\"white\",\"automargin\":true,\"zerolinewidth\":2},\"scene\":{\"xaxis\":{\"backgroundcolor\":\"#E5ECF6\",\"gridcolor\":\"white\",\"linecolor\":\"white\",\"showbackground\":true,\"ticks\":\"\",\"zerolinecolor\":\"white\",\"gridwidth\":2},\"yaxis\":{\"backgroundcolor\":\"#E5ECF6\",\"gridcolor\":\"white\",\"linecolor\":\"white\",\"showbackground\":true,\"ticks\":\"\",\"zerolinecolor\":\"white\",\"gridwidth\":2},\"zaxis\":{\"backgroundcolor\":\"#E5ECF6\",\"gridcolor\":\"white\",\"linecolor\":\"white\",\"showbackground\":true,\"ticks\":\"\",\"zerolinecolor\":\"white\",\"gridwidth\":2}},\"shapedefaults\":{\"line\":{\"color\":\"#2a3f5f\"}},\"annotationdefaults\":{\"arrowcolor\":\"#2a3f5f\",\"arrowhead\":0,\"arrowwidth\":1},\"geo\":{\"bgcolor\":\"white\",\"landcolor\":\"#E5ECF6\",\"subunitcolor\":\"white\",\"showland\":true,\"showlakes\":true,\"lakecolor\":\"white\"},\"title\":{\"x\":0.05},\"mapbox\":{\"style\":\"light\"}}},\"xaxis\":{\"anchor\":\"y\",\"domain\":[0.0,1.0],\"title\":{\"text\":\"Season Score\"},\"type\":\"log\"},\"yaxis\":{\"anchor\":\"x\",\"domain\":[0.0,1.0],\"title\":{\"text\":\"Salary\"}},\"legend\":{\"tracegroupgap\":0},\"margin\":{\"t\":60}},                        {\"responsive\": true}                    ).then(function(){\n",
              "                            \n",
              "var gd = document.getElementById('0b324e12-6412-4b8c-8466-cc38c3a0804f');\n",
              "var x = new MutationObserver(function (mutations, observer) {{\n",
              "        var display = window.getComputedStyle(gd).display;\n",
              "        if (!display || display === 'none') {{\n",
              "            console.log([gd, 'removed!']);\n",
              "            Plotly.purge(gd);\n",
              "            observer.disconnect();\n",
              "        }}\n",
              "}});\n",
              "\n",
              "// Listen for the removal of the full notebook cells\n",
              "var notebookContainer = gd.closest('#notebook-container');\n",
              "if (notebookContainer) {{\n",
              "    x.observe(notebookContainer, {childList: true});\n",
              "}}\n",
              "\n",
              "// Listen for the clearing of the current output cell\n",
              "var outputEl = gd.closest('.output');\n",
              "if (outputEl) {{\n",
              "    x.observe(outputEl, {childList: true});\n",
              "}}\n",
              "\n",
              "                        })                };                            </script>        </div>\n",
              "</body>\n",
              "</html>"
            ]
          },
          "metadata": {}
        },
        {
          "output_type": "display_data",
          "data": {
            "text/html": [
              "<html>\n",
              "<head><meta charset=\"utf-8\" /></head>\n",
              "<body>\n",
              "    <div>            <script src=\"https://cdnjs.cloudflare.com/ajax/libs/mathjax/2.7.5/MathJax.js?config=TeX-AMS-MML_SVG\"></script><script type=\"text/javascript\">if (window.MathJax && window.MathJax.Hub && window.MathJax.Hub.Config) {window.MathJax.Hub.Config({SVG: {font: \"STIX-Web\"}});}</script>                <script type=\"text/javascript\">window.PlotlyConfig = {MathJaxConfig: 'local'};</script>\n",
              "        <script charset=\"utf-8\" src=\"https://cdn.plot.ly/plotly-2.24.1.min.js\"></script>                <div id=\"0535f423-0cff-4345-a45a-637972a05763\" class=\"plotly-graph-div\" style=\"height:525px; width:100%;\"></div>            <script type=\"text/javascript\">                                    window.PLOTLYENV=window.PLOTLYENV || {};                                    if (document.getElementById(\"0535f423-0cff-4345-a45a-637972a05763\")) {                    Plotly.newPlot(                        \"0535f423-0cff-4345-a45a-637972a05763\",                        [{\"hovertemplate\":\"\\u003cb\\u003e%{hovertext}\\u003c\\u002fb\\u003e\\u003cbr\\u003e\\u003cbr\\u003eSeason Score=%{x}\\u003cbr\\u003eSalary=%{y}\\u003cextra\\u003e\\u003c\\u002fextra\\u003e\",\"hovertext\":[\"Stephen Curry\",\"LeBron James\",\"Kevin Durant\",\"Bradley Beal\",\"Kawhi Leonard\",\"Paul George\",\"Giannis Antetokounmpo\",\"Damian Lillard\",\"Kyrie Irving\",\"Rudy Gobert\",\"Khris Middleton\",\"Anthony Davis\",\"Jimmy Butler\",\"Trae Young\",\"Zach LaVine\",\"Ben Simmons\",\"Pascal Siakam\",\"Jrue Holiday\",\"Karl-Anthony Towns\",\"Devin Booker\",\"Andrew Wiggins\",\"Joel Embiid\",\"James Harden\",\"Donovan Mitchell\",\"Shai Gilgeous-Alexander\",\"Jayson Tatum\",\"Bam Adebayo\",\"De'Aaron Fox\",\"Jaylen Brown\",\"Chris Paul\",\"DeMar DeRozan\",\"Draymond Green\",\"Julius Randle\",\"Mike Conley\",\"Fred VanVleet\",\"Domantas Sabonis\",\"Jarrett Allen\",\"Dejounte Murray\",\"Lauri Markkanen\",\"Zion Williamson\",\"Ja Morant\",\"Anthony Edwards\",\"Darius Garland\",\"LaMelo Ball\",\"Tyrese Haliburton\",\"Luka Doncic\",\"Nikola Jokic\",\"Jaren Jackson Jr.\",\"Nikola Vucevic\"],\"legendgroup\":\"\",\"marker\":{\"color\":\"#636efa\",\"symbol\":\"circle\"},\"mode\":\"markers\",\"name\":\"\",\"orientation\":\"v\",\"showlegend\":false,\"x\":[23.44,23.16,23.95,17.65,20.36,18.23,25.01,25.86,21.74,14.63,11.74,24.0,22.68,21.54,18.42,9.11,19.77,17.3,16.57,20.84,13.03,27.75,20.79,21.31,25.8,23.78,17.78,19.9,19.0,15.31,19.81,10.84,19.11,12.35,16.73,21.02,15.46,17.12,20.51,21.29,21.04,17.84,17.68,17.68,21.17,26.73,26.85,15.82,16.51],\"xaxis\":\"x\",\"y\":[48070014,44474988,44119845,43279250,42492492,42492492,42492492,42492492,38917057,38172414,37984276,37980720,37653300,37096500,37096500,35448672,35448672,34319520,33833400,33833400,33616770,33616770,33000000,30913750,30913750,30351780,30351780,30351780,29776785,28400000,27300000,25806468,23760000,22680000,21250000,21100000,20000000,17071120,16475454,13534817,12119440,10733400,8920794,8623920,4215120,37096500,33047803,28946605,22000000],\"yaxis\":\"y\",\"type\":\"scatter\"}],                        {\"template\":{\"data\":{\"histogram2dcontour\":[{\"type\":\"histogram2dcontour\",\"colorbar\":{\"outlinewidth\":0,\"ticks\":\"\"},\"colorscale\":[[0.0,\"#0d0887\"],[0.1111111111111111,\"#46039f\"],[0.2222222222222222,\"#7201a8\"],[0.3333333333333333,\"#9c179e\"],[0.4444444444444444,\"#bd3786\"],[0.5555555555555556,\"#d8576b\"],[0.6666666666666666,\"#ed7953\"],[0.7777777777777778,\"#fb9f3a\"],[0.8888888888888888,\"#fdca26\"],[1.0,\"#f0f921\"]]}],\"choropleth\":[{\"type\":\"choropleth\",\"colorbar\":{\"outlinewidth\":0,\"ticks\":\"\"}}],\"histogram2d\":[{\"type\":\"histogram2d\",\"colorbar\":{\"outlinewidth\":0,\"ticks\":\"\"},\"colorscale\":[[0.0,\"#0d0887\"],[0.1111111111111111,\"#46039f\"],[0.2222222222222222,\"#7201a8\"],[0.3333333333333333,\"#9c179e\"],[0.4444444444444444,\"#bd3786\"],[0.5555555555555556,\"#d8576b\"],[0.6666666666666666,\"#ed7953\"],[0.7777777777777778,\"#fb9f3a\"],[0.8888888888888888,\"#fdca26\"],[1.0,\"#f0f921\"]]}],\"heatmap\":[{\"type\":\"heatmap\",\"colorbar\":{\"outlinewidth\":0,\"ticks\":\"\"},\"colorscale\":[[0.0,\"#0d0887\"],[0.1111111111111111,\"#46039f\"],[0.2222222222222222,\"#7201a8\"],[0.3333333333333333,\"#9c179e\"],[0.4444444444444444,\"#bd3786\"],[0.5555555555555556,\"#d8576b\"],[0.6666666666666666,\"#ed7953\"],[0.7777777777777778,\"#fb9f3a\"],[0.8888888888888888,\"#fdca26\"],[1.0,\"#f0f921\"]]}],\"heatmapgl\":[{\"type\":\"heatmapgl\",\"colorbar\":{\"outlinewidth\":0,\"ticks\":\"\"},\"colorscale\":[[0.0,\"#0d0887\"],[0.1111111111111111,\"#46039f\"],[0.2222222222222222,\"#7201a8\"],[0.3333333333333333,\"#9c179e\"],[0.4444444444444444,\"#bd3786\"],[0.5555555555555556,\"#d8576b\"],[0.6666666666666666,\"#ed7953\"],[0.7777777777777778,\"#fb9f3a\"],[0.8888888888888888,\"#fdca26\"],[1.0,\"#f0f921\"]]}],\"contourcarpet\":[{\"type\":\"contourcarpet\",\"colorbar\":{\"outlinewidth\":0,\"ticks\":\"\"}}],\"contour\":[{\"type\":\"contour\",\"colorbar\":{\"outlinewidth\":0,\"ticks\":\"\"},\"colorscale\":[[0.0,\"#0d0887\"],[0.1111111111111111,\"#46039f\"],[0.2222222222222222,\"#7201a8\"],[0.3333333333333333,\"#9c179e\"],[0.4444444444444444,\"#bd3786\"],[0.5555555555555556,\"#d8576b\"],[0.6666666666666666,\"#ed7953\"],[0.7777777777777778,\"#fb9f3a\"],[0.8888888888888888,\"#fdca26\"],[1.0,\"#f0f921\"]]}],\"surface\":[{\"type\":\"surface\",\"colorbar\":{\"outlinewidth\":0,\"ticks\":\"\"},\"colorscale\":[[0.0,\"#0d0887\"],[0.1111111111111111,\"#46039f\"],[0.2222222222222222,\"#7201a8\"],[0.3333333333333333,\"#9c179e\"],[0.4444444444444444,\"#bd3786\"],[0.5555555555555556,\"#d8576b\"],[0.6666666666666666,\"#ed7953\"],[0.7777777777777778,\"#fb9f3a\"],[0.8888888888888888,\"#fdca26\"],[1.0,\"#f0f921\"]]}],\"mesh3d\":[{\"type\":\"mesh3d\",\"colorbar\":{\"outlinewidth\":0,\"ticks\":\"\"}}],\"scatter\":[{\"fillpattern\":{\"fillmode\":\"overlay\",\"size\":10,\"solidity\":0.2},\"type\":\"scatter\"}],\"parcoords\":[{\"type\":\"parcoords\",\"line\":{\"colorbar\":{\"outlinewidth\":0,\"ticks\":\"\"}}}],\"scatterpolargl\":[{\"type\":\"scatterpolargl\",\"marker\":{\"colorbar\":{\"outlinewidth\":0,\"ticks\":\"\"}}}],\"bar\":[{\"error_x\":{\"color\":\"#2a3f5f\"},\"error_y\":{\"color\":\"#2a3f5f\"},\"marker\":{\"line\":{\"color\":\"#E5ECF6\",\"width\":0.5},\"pattern\":{\"fillmode\":\"overlay\",\"size\":10,\"solidity\":0.2}},\"type\":\"bar\"}],\"scattergeo\":[{\"type\":\"scattergeo\",\"marker\":{\"colorbar\":{\"outlinewidth\":0,\"ticks\":\"\"}}}],\"scatterpolar\":[{\"type\":\"scatterpolar\",\"marker\":{\"colorbar\":{\"outlinewidth\":0,\"ticks\":\"\"}}}],\"histogram\":[{\"marker\":{\"pattern\":{\"fillmode\":\"overlay\",\"size\":10,\"solidity\":0.2}},\"type\":\"histogram\"}],\"scattergl\":[{\"type\":\"scattergl\",\"marker\":{\"colorbar\":{\"outlinewidth\":0,\"ticks\":\"\"}}}],\"scatter3d\":[{\"type\":\"scatter3d\",\"line\":{\"colorbar\":{\"outlinewidth\":0,\"ticks\":\"\"}},\"marker\":{\"colorbar\":{\"outlinewidth\":0,\"ticks\":\"\"}}}],\"scattermapbox\":[{\"type\":\"scattermapbox\",\"marker\":{\"colorbar\":{\"outlinewidth\":0,\"ticks\":\"\"}}}],\"scatterternary\":[{\"type\":\"scatterternary\",\"marker\":{\"colorbar\":{\"outlinewidth\":0,\"ticks\":\"\"}}}],\"scattercarpet\":[{\"type\":\"scattercarpet\",\"marker\":{\"colorbar\":{\"outlinewidth\":0,\"ticks\":\"\"}}}],\"carpet\":[{\"aaxis\":{\"endlinecolor\":\"#2a3f5f\",\"gridcolor\":\"white\",\"linecolor\":\"white\",\"minorgridcolor\":\"white\",\"startlinecolor\":\"#2a3f5f\"},\"baxis\":{\"endlinecolor\":\"#2a3f5f\",\"gridcolor\":\"white\",\"linecolor\":\"white\",\"minorgridcolor\":\"white\",\"startlinecolor\":\"#2a3f5f\"},\"type\":\"carpet\"}],\"table\":[{\"cells\":{\"fill\":{\"color\":\"#EBF0F8\"},\"line\":{\"color\":\"white\"}},\"header\":{\"fill\":{\"color\":\"#C8D4E3\"},\"line\":{\"color\":\"white\"}},\"type\":\"table\"}],\"barpolar\":[{\"marker\":{\"line\":{\"color\":\"#E5ECF6\",\"width\":0.5},\"pattern\":{\"fillmode\":\"overlay\",\"size\":10,\"solidity\":0.2}},\"type\":\"barpolar\"}],\"pie\":[{\"automargin\":true,\"type\":\"pie\"}]},\"layout\":{\"autotypenumbers\":\"strict\",\"colorway\":[\"#636efa\",\"#EF553B\",\"#00cc96\",\"#ab63fa\",\"#FFA15A\",\"#19d3f3\",\"#FF6692\",\"#B6E880\",\"#FF97FF\",\"#FECB52\"],\"font\":{\"color\":\"#2a3f5f\"},\"hovermode\":\"closest\",\"hoverlabel\":{\"align\":\"left\"},\"paper_bgcolor\":\"white\",\"plot_bgcolor\":\"#E5ECF6\",\"polar\":{\"bgcolor\":\"#E5ECF6\",\"angularaxis\":{\"gridcolor\":\"white\",\"linecolor\":\"white\",\"ticks\":\"\"},\"radialaxis\":{\"gridcolor\":\"white\",\"linecolor\":\"white\",\"ticks\":\"\"}},\"ternary\":{\"bgcolor\":\"#E5ECF6\",\"aaxis\":{\"gridcolor\":\"white\",\"linecolor\":\"white\",\"ticks\":\"\"},\"baxis\":{\"gridcolor\":\"white\",\"linecolor\":\"white\",\"ticks\":\"\"},\"caxis\":{\"gridcolor\":\"white\",\"linecolor\":\"white\",\"ticks\":\"\"}},\"coloraxis\":{\"colorbar\":{\"outlinewidth\":0,\"ticks\":\"\"}},\"colorscale\":{\"sequential\":[[0.0,\"#0d0887\"],[0.1111111111111111,\"#46039f\"],[0.2222222222222222,\"#7201a8\"],[0.3333333333333333,\"#9c179e\"],[0.4444444444444444,\"#bd3786\"],[0.5555555555555556,\"#d8576b\"],[0.6666666666666666,\"#ed7953\"],[0.7777777777777778,\"#fb9f3a\"],[0.8888888888888888,\"#fdca26\"],[1.0,\"#f0f921\"]],\"sequentialminus\":[[0.0,\"#0d0887\"],[0.1111111111111111,\"#46039f\"],[0.2222222222222222,\"#7201a8\"],[0.3333333333333333,\"#9c179e\"],[0.4444444444444444,\"#bd3786\"],[0.5555555555555556,\"#d8576b\"],[0.6666666666666666,\"#ed7953\"],[0.7777777777777778,\"#fb9f3a\"],[0.8888888888888888,\"#fdca26\"],[1.0,\"#f0f921\"]],\"diverging\":[[0,\"#8e0152\"],[0.1,\"#c51b7d\"],[0.2,\"#de77ae\"],[0.3,\"#f1b6da\"],[0.4,\"#fde0ef\"],[0.5,\"#f7f7f7\"],[0.6,\"#e6f5d0\"],[0.7,\"#b8e186\"],[0.8,\"#7fbc41\"],[0.9,\"#4d9221\"],[1,\"#276419\"]]},\"xaxis\":{\"gridcolor\":\"white\",\"linecolor\":\"white\",\"ticks\":\"\",\"title\":{\"standoff\":15},\"zerolinecolor\":\"white\",\"automargin\":true,\"zerolinewidth\":2},\"yaxis\":{\"gridcolor\":\"white\",\"linecolor\":\"white\",\"ticks\":\"\",\"title\":{\"standoff\":15},\"zerolinecolor\":\"white\",\"automargin\":true,\"zerolinewidth\":2},\"scene\":{\"xaxis\":{\"backgroundcolor\":\"#E5ECF6\",\"gridcolor\":\"white\",\"linecolor\":\"white\",\"showbackground\":true,\"ticks\":\"\",\"zerolinecolor\":\"white\",\"gridwidth\":2},\"yaxis\":{\"backgroundcolor\":\"#E5ECF6\",\"gridcolor\":\"white\",\"linecolor\":\"white\",\"showbackground\":true,\"ticks\":\"\",\"zerolinecolor\":\"white\",\"gridwidth\":2},\"zaxis\":{\"backgroundcolor\":\"#E5ECF6\",\"gridcolor\":\"white\",\"linecolor\":\"white\",\"showbackground\":true,\"ticks\":\"\",\"zerolinecolor\":\"white\",\"gridwidth\":2}},\"shapedefaults\":{\"line\":{\"color\":\"#2a3f5f\"}},\"annotationdefaults\":{\"arrowcolor\":\"#2a3f5f\",\"arrowhead\":0,\"arrowwidth\":1},\"geo\":{\"bgcolor\":\"white\",\"landcolor\":\"#E5ECF6\",\"subunitcolor\":\"white\",\"showland\":true,\"showlakes\":true,\"lakecolor\":\"white\"},\"title\":{\"x\":0.05},\"mapbox\":{\"style\":\"light\"}}},\"xaxis\":{\"anchor\":\"y\",\"domain\":[0.0,1.0],\"title\":{\"text\":\"Season Score\"},\"type\":\"log\"},\"yaxis\":{\"anchor\":\"x\",\"domain\":[0.0,1.0],\"title\":{\"text\":\"Salary\"}},\"legend\":{\"tracegroupgap\":0},\"margin\":{\"t\":60}},                        {\"responsive\": true}                    ).then(function(){\n",
              "                            \n",
              "var gd = document.getElementById('0535f423-0cff-4345-a45a-637972a05763');\n",
              "var x = new MutationObserver(function (mutations, observer) {{\n",
              "        var display = window.getComputedStyle(gd).display;\n",
              "        if (!display || display === 'none') {{\n",
              "            console.log([gd, 'removed!']);\n",
              "            Plotly.purge(gd);\n",
              "            observer.disconnect();\n",
              "        }}\n",
              "}});\n",
              "\n",
              "// Listen for the removal of the full notebook cells\n",
              "var notebookContainer = gd.closest('#notebook-container');\n",
              "if (notebookContainer) {{\n",
              "    x.observe(notebookContainer, {childList: true});\n",
              "}}\n",
              "\n",
              "// Listen for the clearing of the current output cell\n",
              "var outputEl = gd.closest('.output');\n",
              "if (outputEl) {{\n",
              "    x.observe(outputEl, {childList: true});\n",
              "}}\n",
              "\n",
              "                        })                };                            </script>        </div>\n",
              "</body>\n",
              "</html>"
            ]
          },
          "metadata": {}
        }
      ]
    },
    {
      "cell_type": "code",
      "source": [
        "# Filtering to find consistently high-performing players in the last season\n",
        "df=df.drop(['Player Name'], axis =1)\n",
        "df[(df['Season Score'] >= df['Season Score'].quantile(.85)) & ( df['GP'] >= df['GP'].quantile(.45))]\n"
      ],
      "metadata": {
        "colab": {
          "base_uri": "https://localhost:8080/",
          "height": 455
        },
        "id": "ug889tV3ToUs",
        "outputId": "45eef385-9553-405a-967d-6c149058ea72"
      },
      "execution_count": null,
      "outputs": [
        {
          "output_type": "execute_result",
          "data": {
            "text/plain": [
              "                         Salary Position  Age Team  GP    MP   FGA   3P   3PA  \\\n",
              "Player Name                                                                     \n",
              "Stephen Curry          48070014       PG   34  GSW  56  34.7  20.2  4.9  11.4   \n",
              "LeBron James           44474988       PF   38  LAL  55  35.5  22.2  2.2   6.9   \n",
              "Kawhi Leonard          42492492       SF   31  LAC  52  33.6  16.8  2.0   4.8   \n",
              "Paul George            42492492       SF   32  LAC  56  34.6  17.9  2.8   7.6   \n",
              "Giannis Antetokounmpo  42492492       PF   28  MIL  63  32.1  20.3  0.7   2.7   \n",
              "...                         ...      ...  ...  ...  ..   ...   ...  ...   ...   \n",
              "Desmond Bane            2130240       SG   24  MEM  58  31.7  16.2  2.9   7.0   \n",
              "Luka Doncic            37096500    PG-SG   24  DAL  66  36.2  22.0  2.8   8.2   \n",
              "Nikola Jokic           33047803        C   28  DEN  69  33.7  14.8  0.8   2.2   \n",
              "Jaren Jackson Jr.      28946605     PF-C   24  MEM  63  28.4  13.0  1.6   4.5   \n",
              "Nikola Vucevic         22000000        C   32  CHI  82  33.5  14.0  1.5   4.2   \n",
              "\n",
              "                         3P%  ...  DWS    WS  OBPM  DBPM   BPM  VORP  \\\n",
              "Player Name                   ...                                      \n",
              "Stephen Curry          0.427  ...  2.0   7.8   7.5   0.1   7.5   4.7   \n",
              "LeBron James           0.321  ...  2.4   5.6   5.5   0.6   6.1   4.0   \n",
              "Kawhi Leonard          0.416  ...  2.2   7.1   5.1   0.9   6.1   3.5   \n",
              "Paul George            0.371  ...  2.3   4.6   2.4   0.3   2.8   2.3   \n",
              "Giannis Antetokounmpo  0.275  ...  3.7   8.6   5.8   2.7   8.5   5.4   \n",
              "...                      ...  ...  ...   ...   ...   ...   ...   ...   \n",
              "Desmond Bane           0.408  ...  2.3   5.8   3.3   0.1   3.5   2.5   \n",
              "Luka Doncic            0.342  ...  2.9  10.2   7.6   1.4   8.9   6.6   \n",
              "Nikola Jokic           0.383  ...  3.8  14.9   8.5   4.5  13.0   8.8   \n",
              "Jaren Jackson Jr.      0.355  ...  3.8   6.6   0.7   2.0   2.8   2.2   \n",
              "Nikola Vucevic         0.349  ...  4.4   8.3   1.9   0.7   2.7   3.2   \n",
              "\n",
              "                       Season Score  ScoreDiff  Contract Value   Star  \n",
              "Player Name                                                            \n",
              "Stephen Curry                 23.44      15.45           0.081   True  \n",
              "LeBron James                  23.16      15.17           0.086   True  \n",
              "Kawhi Leonard                 20.36      12.37           0.077   True  \n",
              "Paul George                   18.23      10.24           0.067   True  \n",
              "Giannis Antetokounmpo         25.01      17.02           0.099   True  \n",
              "...                             ...        ...             ...    ...  \n",
              "Desmond Bane                  16.73       8.74           1.196  False  \n",
              "Luka Doncic                   26.73      18.74           0.123   True  \n",
              "Nikola Jokic                  26.85      18.86           0.138   True  \n",
              "Jaren Jackson Jr.             15.82       7.83           0.082   True  \n",
              "Nikola Vucevic                16.51       8.52           0.114   True  \n",
              "\n",
              "[63 rows x 37 columns]"
            ],
            "text/html": [
              "\n",
              "  <div id=\"df-3879ad4d-fc59-4348-ac0f-0fdb6b893cb7\" class=\"colab-df-container\">\n",
              "    <div>\n",
              "<style scoped>\n",
              "    .dataframe tbody tr th:only-of-type {\n",
              "        vertical-align: middle;\n",
              "    }\n",
              "\n",
              "    .dataframe tbody tr th {\n",
              "        vertical-align: top;\n",
              "    }\n",
              "\n",
              "    .dataframe thead th {\n",
              "        text-align: right;\n",
              "    }\n",
              "</style>\n",
              "<table border=\"1\" class=\"dataframe\">\n",
              "  <thead>\n",
              "    <tr style=\"text-align: right;\">\n",
              "      <th></th>\n",
              "      <th>Salary</th>\n",
              "      <th>Position</th>\n",
              "      <th>Age</th>\n",
              "      <th>Team</th>\n",
              "      <th>GP</th>\n",
              "      <th>MP</th>\n",
              "      <th>FGA</th>\n",
              "      <th>3P</th>\n",
              "      <th>3PA</th>\n",
              "      <th>3P%</th>\n",
              "      <th>...</th>\n",
              "      <th>DWS</th>\n",
              "      <th>WS</th>\n",
              "      <th>OBPM</th>\n",
              "      <th>DBPM</th>\n",
              "      <th>BPM</th>\n",
              "      <th>VORP</th>\n",
              "      <th>Season Score</th>\n",
              "      <th>ScoreDiff</th>\n",
              "      <th>Contract Value</th>\n",
              "      <th>Star</th>\n",
              "    </tr>\n",
              "    <tr>\n",
              "      <th>Player Name</th>\n",
              "      <th></th>\n",
              "      <th></th>\n",
              "      <th></th>\n",
              "      <th></th>\n",
              "      <th></th>\n",
              "      <th></th>\n",
              "      <th></th>\n",
              "      <th></th>\n",
              "      <th></th>\n",
              "      <th></th>\n",
              "      <th></th>\n",
              "      <th></th>\n",
              "      <th></th>\n",
              "      <th></th>\n",
              "      <th></th>\n",
              "      <th></th>\n",
              "      <th></th>\n",
              "      <th></th>\n",
              "      <th></th>\n",
              "      <th></th>\n",
              "      <th></th>\n",
              "    </tr>\n",
              "  </thead>\n",
              "  <tbody>\n",
              "    <tr>\n",
              "      <th>Stephen Curry</th>\n",
              "      <td>48070014</td>\n",
              "      <td>PG</td>\n",
              "      <td>34</td>\n",
              "      <td>GSW</td>\n",
              "      <td>56</td>\n",
              "      <td>34.7</td>\n",
              "      <td>20.2</td>\n",
              "      <td>4.9</td>\n",
              "      <td>11.4</td>\n",
              "      <td>0.427</td>\n",
              "      <td>...</td>\n",
              "      <td>2.0</td>\n",
              "      <td>7.8</td>\n",
              "      <td>7.5</td>\n",
              "      <td>0.1</td>\n",
              "      <td>7.5</td>\n",
              "      <td>4.7</td>\n",
              "      <td>23.44</td>\n",
              "      <td>15.45</td>\n",
              "      <td>0.081</td>\n",
              "      <td>True</td>\n",
              "    </tr>\n",
              "    <tr>\n",
              "      <th>LeBron James</th>\n",
              "      <td>44474988</td>\n",
              "      <td>PF</td>\n",
              "      <td>38</td>\n",
              "      <td>LAL</td>\n",
              "      <td>55</td>\n",
              "      <td>35.5</td>\n",
              "      <td>22.2</td>\n",
              "      <td>2.2</td>\n",
              "      <td>6.9</td>\n",
              "      <td>0.321</td>\n",
              "      <td>...</td>\n",
              "      <td>2.4</td>\n",
              "      <td>5.6</td>\n",
              "      <td>5.5</td>\n",
              "      <td>0.6</td>\n",
              "      <td>6.1</td>\n",
              "      <td>4.0</td>\n",
              "      <td>23.16</td>\n",
              "      <td>15.17</td>\n",
              "      <td>0.086</td>\n",
              "      <td>True</td>\n",
              "    </tr>\n",
              "    <tr>\n",
              "      <th>Kawhi Leonard</th>\n",
              "      <td>42492492</td>\n",
              "      <td>SF</td>\n",
              "      <td>31</td>\n",
              "      <td>LAC</td>\n",
              "      <td>52</td>\n",
              "      <td>33.6</td>\n",
              "      <td>16.8</td>\n",
              "      <td>2.0</td>\n",
              "      <td>4.8</td>\n",
              "      <td>0.416</td>\n",
              "      <td>...</td>\n",
              "      <td>2.2</td>\n",
              "      <td>7.1</td>\n",
              "      <td>5.1</td>\n",
              "      <td>0.9</td>\n",
              "      <td>6.1</td>\n",
              "      <td>3.5</td>\n",
              "      <td>20.36</td>\n",
              "      <td>12.37</td>\n",
              "      <td>0.077</td>\n",
              "      <td>True</td>\n",
              "    </tr>\n",
              "    <tr>\n",
              "      <th>Paul George</th>\n",
              "      <td>42492492</td>\n",
              "      <td>SF</td>\n",
              "      <td>32</td>\n",
              "      <td>LAC</td>\n",
              "      <td>56</td>\n",
              "      <td>34.6</td>\n",
              "      <td>17.9</td>\n",
              "      <td>2.8</td>\n",
              "      <td>7.6</td>\n",
              "      <td>0.371</td>\n",
              "      <td>...</td>\n",
              "      <td>2.3</td>\n",
              "      <td>4.6</td>\n",
              "      <td>2.4</td>\n",
              "      <td>0.3</td>\n",
              "      <td>2.8</td>\n",
              "      <td>2.3</td>\n",
              "      <td>18.23</td>\n",
              "      <td>10.24</td>\n",
              "      <td>0.067</td>\n",
              "      <td>True</td>\n",
              "    </tr>\n",
              "    <tr>\n",
              "      <th>Giannis Antetokounmpo</th>\n",
              "      <td>42492492</td>\n",
              "      <td>PF</td>\n",
              "      <td>28</td>\n",
              "      <td>MIL</td>\n",
              "      <td>63</td>\n",
              "      <td>32.1</td>\n",
              "      <td>20.3</td>\n",
              "      <td>0.7</td>\n",
              "      <td>2.7</td>\n",
              "      <td>0.275</td>\n",
              "      <td>...</td>\n",
              "      <td>3.7</td>\n",
              "      <td>8.6</td>\n",
              "      <td>5.8</td>\n",
              "      <td>2.7</td>\n",
              "      <td>8.5</td>\n",
              "      <td>5.4</td>\n",
              "      <td>25.01</td>\n",
              "      <td>17.02</td>\n",
              "      <td>0.099</td>\n",
              "      <td>True</td>\n",
              "    </tr>\n",
              "    <tr>\n",
              "      <th>...</th>\n",
              "      <td>...</td>\n",
              "      <td>...</td>\n",
              "      <td>...</td>\n",
              "      <td>...</td>\n",
              "      <td>...</td>\n",
              "      <td>...</td>\n",
              "      <td>...</td>\n",
              "      <td>...</td>\n",
              "      <td>...</td>\n",
              "      <td>...</td>\n",
              "      <td>...</td>\n",
              "      <td>...</td>\n",
              "      <td>...</td>\n",
              "      <td>...</td>\n",
              "      <td>...</td>\n",
              "      <td>...</td>\n",
              "      <td>...</td>\n",
              "      <td>...</td>\n",
              "      <td>...</td>\n",
              "      <td>...</td>\n",
              "      <td>...</td>\n",
              "    </tr>\n",
              "    <tr>\n",
              "      <th>Desmond Bane</th>\n",
              "      <td>2130240</td>\n",
              "      <td>SG</td>\n",
              "      <td>24</td>\n",
              "      <td>MEM</td>\n",
              "      <td>58</td>\n",
              "      <td>31.7</td>\n",
              "      <td>16.2</td>\n",
              "      <td>2.9</td>\n",
              "      <td>7.0</td>\n",
              "      <td>0.408</td>\n",
              "      <td>...</td>\n",
              "      <td>2.3</td>\n",
              "      <td>5.8</td>\n",
              "      <td>3.3</td>\n",
              "      <td>0.1</td>\n",
              "      <td>3.5</td>\n",
              "      <td>2.5</td>\n",
              "      <td>16.73</td>\n",
              "      <td>8.74</td>\n",
              "      <td>1.196</td>\n",
              "      <td>False</td>\n",
              "    </tr>\n",
              "    <tr>\n",
              "      <th>Luka Doncic</th>\n",
              "      <td>37096500</td>\n",
              "      <td>PG-SG</td>\n",
              "      <td>24</td>\n",
              "      <td>DAL</td>\n",
              "      <td>66</td>\n",
              "      <td>36.2</td>\n",
              "      <td>22.0</td>\n",
              "      <td>2.8</td>\n",
              "      <td>8.2</td>\n",
              "      <td>0.342</td>\n",
              "      <td>...</td>\n",
              "      <td>2.9</td>\n",
              "      <td>10.2</td>\n",
              "      <td>7.6</td>\n",
              "      <td>1.4</td>\n",
              "      <td>8.9</td>\n",
              "      <td>6.6</td>\n",
              "      <td>26.73</td>\n",
              "      <td>18.74</td>\n",
              "      <td>0.123</td>\n",
              "      <td>True</td>\n",
              "    </tr>\n",
              "    <tr>\n",
              "      <th>Nikola Jokic</th>\n",
              "      <td>33047803</td>\n",
              "      <td>C</td>\n",
              "      <td>28</td>\n",
              "      <td>DEN</td>\n",
              "      <td>69</td>\n",
              "      <td>33.7</td>\n",
              "      <td>14.8</td>\n",
              "      <td>0.8</td>\n",
              "      <td>2.2</td>\n",
              "      <td>0.383</td>\n",
              "      <td>...</td>\n",
              "      <td>3.8</td>\n",
              "      <td>14.9</td>\n",
              "      <td>8.5</td>\n",
              "      <td>4.5</td>\n",
              "      <td>13.0</td>\n",
              "      <td>8.8</td>\n",
              "      <td>26.85</td>\n",
              "      <td>18.86</td>\n",
              "      <td>0.138</td>\n",
              "      <td>True</td>\n",
              "    </tr>\n",
              "    <tr>\n",
              "      <th>Jaren Jackson Jr.</th>\n",
              "      <td>28946605</td>\n",
              "      <td>PF-C</td>\n",
              "      <td>24</td>\n",
              "      <td>MEM</td>\n",
              "      <td>63</td>\n",
              "      <td>28.4</td>\n",
              "      <td>13.0</td>\n",
              "      <td>1.6</td>\n",
              "      <td>4.5</td>\n",
              "      <td>0.355</td>\n",
              "      <td>...</td>\n",
              "      <td>3.8</td>\n",
              "      <td>6.6</td>\n",
              "      <td>0.7</td>\n",
              "      <td>2.0</td>\n",
              "      <td>2.8</td>\n",
              "      <td>2.2</td>\n",
              "      <td>15.82</td>\n",
              "      <td>7.83</td>\n",
              "      <td>0.082</td>\n",
              "      <td>True</td>\n",
              "    </tr>\n",
              "    <tr>\n",
              "      <th>Nikola Vucevic</th>\n",
              "      <td>22000000</td>\n",
              "      <td>C</td>\n",
              "      <td>32</td>\n",
              "      <td>CHI</td>\n",
              "      <td>82</td>\n",
              "      <td>33.5</td>\n",
              "      <td>14.0</td>\n",
              "      <td>1.5</td>\n",
              "      <td>4.2</td>\n",
              "      <td>0.349</td>\n",
              "      <td>...</td>\n",
              "      <td>4.4</td>\n",
              "      <td>8.3</td>\n",
              "      <td>1.9</td>\n",
              "      <td>0.7</td>\n",
              "      <td>2.7</td>\n",
              "      <td>3.2</td>\n",
              "      <td>16.51</td>\n",
              "      <td>8.52</td>\n",
              "      <td>0.114</td>\n",
              "      <td>True</td>\n",
              "    </tr>\n",
              "  </tbody>\n",
              "</table>\n",
              "<p>63 rows × 37 columns</p>\n",
              "</div>\n",
              "    <div class=\"colab-df-buttons\">\n",
              "\n",
              "  <div class=\"colab-df-container\">\n",
              "    <button class=\"colab-df-convert\" onclick=\"convertToInteractive('df-3879ad4d-fc59-4348-ac0f-0fdb6b893cb7')\"\n",
              "            title=\"Convert this dataframe to an interactive table.\"\n",
              "            style=\"display:none;\">\n",
              "\n",
              "  <svg xmlns=\"http://www.w3.org/2000/svg\" height=\"24px\" viewBox=\"0 -960 960 960\">\n",
              "    <path d=\"M120-120v-720h720v720H120Zm60-500h600v-160H180v160Zm220 220h160v-160H400v160Zm0 220h160v-160H400v160ZM180-400h160v-160H180v160Zm440 0h160v-160H620v160ZM180-180h160v-160H180v160Zm440 0h160v-160H620v160Z\"/>\n",
              "  </svg>\n",
              "    </button>\n",
              "\n",
              "  <style>\n",
              "    .colab-df-container {\n",
              "      display:flex;\n",
              "      gap: 12px;\n",
              "    }\n",
              "\n",
              "    .colab-df-convert {\n",
              "      background-color: #E8F0FE;\n",
              "      border: none;\n",
              "      border-radius: 50%;\n",
              "      cursor: pointer;\n",
              "      display: none;\n",
              "      fill: #1967D2;\n",
              "      height: 32px;\n",
              "      padding: 0 0 0 0;\n",
              "      width: 32px;\n",
              "    }\n",
              "\n",
              "    .colab-df-convert:hover {\n",
              "      background-color: #E2EBFA;\n",
              "      box-shadow: 0px 1px 2px rgba(60, 64, 67, 0.3), 0px 1px 3px 1px rgba(60, 64, 67, 0.15);\n",
              "      fill: #174EA6;\n",
              "    }\n",
              "\n",
              "    .colab-df-buttons div {\n",
              "      margin-bottom: 4px;\n",
              "    }\n",
              "\n",
              "    [theme=dark] .colab-df-convert {\n",
              "      background-color: #3B4455;\n",
              "      fill: #D2E3FC;\n",
              "    }\n",
              "\n",
              "    [theme=dark] .colab-df-convert:hover {\n",
              "      background-color: #434B5C;\n",
              "      box-shadow: 0px 1px 3px 1px rgba(0, 0, 0, 0.15);\n",
              "      filter: drop-shadow(0px 1px 2px rgba(0, 0, 0, 0.3));\n",
              "      fill: #FFFFFF;\n",
              "    }\n",
              "  </style>\n",
              "\n",
              "    <script>\n",
              "      const buttonEl =\n",
              "        document.querySelector('#df-3879ad4d-fc59-4348-ac0f-0fdb6b893cb7 button.colab-df-convert');\n",
              "      buttonEl.style.display =\n",
              "        google.colab.kernel.accessAllowed ? 'block' : 'none';\n",
              "\n",
              "      async function convertToInteractive(key) {\n",
              "        const element = document.querySelector('#df-3879ad4d-fc59-4348-ac0f-0fdb6b893cb7');\n",
              "        const dataTable =\n",
              "          await google.colab.kernel.invokeFunction('convertToInteractive',\n",
              "                                                    [key], {});\n",
              "        if (!dataTable) return;\n",
              "\n",
              "        const docLinkHtml = 'Like what you see? Visit the ' +\n",
              "          '<a target=\"_blank\" href=https://colab.research.google.com/notebooks/data_table.ipynb>data table notebook</a>'\n",
              "          + ' to learn more about interactive tables.';\n",
              "        element.innerHTML = '';\n",
              "        dataTable['output_type'] = 'display_data';\n",
              "        await google.colab.output.renderOutput(dataTable, element);\n",
              "        const docLink = document.createElement('div');\n",
              "        docLink.innerHTML = docLinkHtml;\n",
              "        element.appendChild(docLink);\n",
              "      }\n",
              "    </script>\n",
              "  </div>\n",
              "\n",
              "\n",
              "<div id=\"df-f857d602-6ea3-4607-8197-c76e48122170\">\n",
              "  <button class=\"colab-df-quickchart\" onclick=\"quickchart('df-f857d602-6ea3-4607-8197-c76e48122170')\"\n",
              "            title=\"Suggest charts.\"\n",
              "            style=\"display:none;\">\n",
              "\n",
              "<svg xmlns=\"http://www.w3.org/2000/svg\" height=\"24px\"viewBox=\"0 0 24 24\"\n",
              "     width=\"24px\">\n",
              "    <g>\n",
              "        <path d=\"M19 3H5c-1.1 0-2 .9-2 2v14c0 1.1.9 2 2 2h14c1.1 0 2-.9 2-2V5c0-1.1-.9-2-2-2zM9 17H7v-7h2v7zm4 0h-2V7h2v10zm4 0h-2v-4h2v4z\"/>\n",
              "    </g>\n",
              "</svg>\n",
              "  </button>\n",
              "\n",
              "<style>\n",
              "  .colab-df-quickchart {\n",
              "      --bg-color: #E8F0FE;\n",
              "      --fill-color: #1967D2;\n",
              "      --hover-bg-color: #E2EBFA;\n",
              "      --hover-fill-color: #174EA6;\n",
              "      --disabled-fill-color: #AAA;\n",
              "      --disabled-bg-color: #DDD;\n",
              "  }\n",
              "\n",
              "  [theme=dark] .colab-df-quickchart {\n",
              "      --bg-color: #3B4455;\n",
              "      --fill-color: #D2E3FC;\n",
              "      --hover-bg-color: #434B5C;\n",
              "      --hover-fill-color: #FFFFFF;\n",
              "      --disabled-bg-color: #3B4455;\n",
              "      --disabled-fill-color: #666;\n",
              "  }\n",
              "\n",
              "  .colab-df-quickchart {\n",
              "    background-color: var(--bg-color);\n",
              "    border: none;\n",
              "    border-radius: 50%;\n",
              "    cursor: pointer;\n",
              "    display: none;\n",
              "    fill: var(--fill-color);\n",
              "    height: 32px;\n",
              "    padding: 0;\n",
              "    width: 32px;\n",
              "  }\n",
              "\n",
              "  .colab-df-quickchart:hover {\n",
              "    background-color: var(--hover-bg-color);\n",
              "    box-shadow: 0 1px 2px rgba(60, 64, 67, 0.3), 0 1px 3px 1px rgba(60, 64, 67, 0.15);\n",
              "    fill: var(--button-hover-fill-color);\n",
              "  }\n",
              "\n",
              "  .colab-df-quickchart-complete:disabled,\n",
              "  .colab-df-quickchart-complete:disabled:hover {\n",
              "    background-color: var(--disabled-bg-color);\n",
              "    fill: var(--disabled-fill-color);\n",
              "    box-shadow: none;\n",
              "  }\n",
              "\n",
              "  .colab-df-spinner {\n",
              "    border: 2px solid var(--fill-color);\n",
              "    border-color: transparent;\n",
              "    border-bottom-color: var(--fill-color);\n",
              "    animation:\n",
              "      spin 1s steps(1) infinite;\n",
              "  }\n",
              "\n",
              "  @keyframes spin {\n",
              "    0% {\n",
              "      border-color: transparent;\n",
              "      border-bottom-color: var(--fill-color);\n",
              "      border-left-color: var(--fill-color);\n",
              "    }\n",
              "    20% {\n",
              "      border-color: transparent;\n",
              "      border-left-color: var(--fill-color);\n",
              "      border-top-color: var(--fill-color);\n",
              "    }\n",
              "    30% {\n",
              "      border-color: transparent;\n",
              "      border-left-color: var(--fill-color);\n",
              "      border-top-color: var(--fill-color);\n",
              "      border-right-color: var(--fill-color);\n",
              "    }\n",
              "    40% {\n",
              "      border-color: transparent;\n",
              "      border-right-color: var(--fill-color);\n",
              "      border-top-color: var(--fill-color);\n",
              "    }\n",
              "    60% {\n",
              "      border-color: transparent;\n",
              "      border-right-color: var(--fill-color);\n",
              "    }\n",
              "    80% {\n",
              "      border-color: transparent;\n",
              "      border-right-color: var(--fill-color);\n",
              "      border-bottom-color: var(--fill-color);\n",
              "    }\n",
              "    90% {\n",
              "      border-color: transparent;\n",
              "      border-bottom-color: var(--fill-color);\n",
              "    }\n",
              "  }\n",
              "</style>\n",
              "\n",
              "  <script>\n",
              "    async function quickchart(key) {\n",
              "      const quickchartButtonEl =\n",
              "        document.querySelector('#' + key + ' button');\n",
              "      quickchartButtonEl.disabled = true;  // To prevent multiple clicks.\n",
              "      quickchartButtonEl.classList.add('colab-df-spinner');\n",
              "      try {\n",
              "        const charts = await google.colab.kernel.invokeFunction(\n",
              "            'suggestCharts', [key], {});\n",
              "      } catch (error) {\n",
              "        console.error('Error during call to suggestCharts:', error);\n",
              "      }\n",
              "      quickchartButtonEl.classList.remove('colab-df-spinner');\n",
              "      quickchartButtonEl.classList.add('colab-df-quickchart-complete');\n",
              "    }\n",
              "    (() => {\n",
              "      let quickchartButtonEl =\n",
              "        document.querySelector('#df-f857d602-6ea3-4607-8197-c76e48122170 button');\n",
              "      quickchartButtonEl.style.display =\n",
              "        google.colab.kernel.accessAllowed ? 'block' : 'none';\n",
              "    })();\n",
              "  </script>\n",
              "</div>\n",
              "    </div>\n",
              "  </div>\n"
            ]
          },
          "metadata": {},
          "execution_count": 33
        }
      ]
    },
    {
      "cell_type": "markdown",
      "source": [
        "# Sorting players by roles using their stats"
      ],
      "metadata": {
        "id": "CgPQR-WlMJPh"
      }
    },
    {
      "cell_type": "markdown",
      "metadata": {
        "id": "DZRDiPM74pd1"
      },
      "source": [
        "\n",
        "Bigs"
      ]
    },
    {
      "cell_type": "code",
      "execution_count": null,
      "metadata": {
        "id": "0bCi_DpgrPEr"
      },
      "outputs": [],
      "source": [
        "def avgSalary(data):\n",
        "  return data['Salary'].mean().round(2)\n",
        "RolesList = {}"
      ]
    },
    {
      "cell_type": "code",
      "execution_count": null,
      "metadata": {
        "id": "KIXO7PvYHrRQ"
      },
      "outputs": [],
      "source": [
        "Bigs = df[(df['Position'] == 'C') | (df['Position'] == 'PF') | (df['Position'] == 'C-PF') | (df['Position'] == 'PF-C')]"
      ]
    },
    {
      "cell_type": "code",
      "execution_count": null,
      "metadata": {
        "id": "nwfwxdQ61i0a"
      },
      "outputs": [],
      "source": [
        "#Bigs (PF, C)\n",
        "Q1blkCPF = Bigs['BLK'].quantile(0.25)\n",
        "Q3blkCPF = Bigs['BLK'].quantile(0.75)\n",
        "IQRblkCPF = Q3blkCPF - Q1blkCPF\n",
        "meanblkCPF = Bigs['BLK'].mean()"
      ]
    },
    {
      "cell_type": "code",
      "execution_count": null,
      "metadata": {
        "id": "8Ek3Hc113GmN"
      },
      "outputs": [],
      "source": [
        "Q1ptsCPF = Bigs['PTS'].quantile(0.25)\n",
        "Q3ptsCPF = Bigs['PTS'].quantile(0.75)\n",
        "IQRptsCPF = Q3ptsCPF - Q1ptsCPF\n",
        "meanptsCPF = Bigs['PTS'].mean()"
      ]
    },
    {
      "cell_type": "code",
      "execution_count": null,
      "metadata": {
        "id": "yYRBCjOs3bwz"
      },
      "outputs": [],
      "source": [
        "Q1rebCPF = Bigs['TRB'].quantile(0.25)\n",
        "Q3rebCPF = Bigs['TRB'].quantile(0.75)\n",
        "IQRrebCPF = Q3rebCPF - Q1rebCPF\n",
        "meanrebCPF = Bigs['TRB'].mean()"
      ]
    },
    {
      "cell_type": "code",
      "execution_count": null,
      "metadata": {
        "id": "GzngKDlO4WrS"
      },
      "outputs": [],
      "source": [
        "Q1fgaCPF = Bigs['FGA'].quantile(0.25)\n",
        "Q3fgaCPF = Bigs['FGA'].quantile(0.75)\n",
        "IQRfgaCPF = Q3fgaCPF - Q1fgaCPF\n",
        "meanfgaCPF = Bigs['FGA'].mean()"
      ]
    },
    {
      "cell_type": "code",
      "execution_count": null,
      "metadata": {
        "id": "JXXO8uOF4yx4"
      },
      "outputs": [],
      "source": [
        "Q1cvalCPF = Bigs['Contract Value'].quantile(0.25)\n",
        "Q3cvalCPF = Bigs['Contract Value'].quantile(0.75)\n",
        "IQRcvalCPF = Q3cvalCPF - Q1cvalCPF\n",
        "meancvalCPF = Bigs['Contract Value'].mean()"
      ]
    },
    {
      "cell_type": "code",
      "execution_count": null,
      "metadata": {
        "id": "mBbYYKUa5m54"
      },
      "outputs": [],
      "source": [
        "#Scoring Bigs\n",
        "ScoringBigs = df[(df['GP'] >= df['GP'].mean()) & ((df['Position'] == 'C') | (df['Position'] == 'PF') | (df['Position'] == 'C-PF') | (df['Position'] == 'PF-C')) & (df['PTS'] >= Q3ptsCPF + 1.5 * IQRptsCPF) & (df['FGA'] >= Q3fgaCPF + 1.5 * IQRfgaCPF)]\n",
        "RolesList['SB'] = (avgSalary(ScoringBigs))"
      ]
    },
    {
      "cell_type": "code",
      "execution_count": null,
      "metadata": {
        "id": "LzKi-MClP4UG"
      },
      "outputs": [],
      "source": [
        "#Defensive Bigs\n",
        "DefensiveBigs = df[(df['GP'] >= df['GP'].mean()) & ((df['Position'] == 'C') | (df['Position'] == 'PF') | (df['Position'] == 'C-PF') | (df['Position'] == 'PF-C')) & (df['BLK'] >= Q3blkCPF + .75 * IQRblkCPF) & (df['TRB'] >= Q3rebCPF + .75 * IQRrebCPF)]\n",
        "RolesList['DB'] = (avgSalary(DefensiveBigs))"
      ]
    },
    {
      "cell_type": "markdown",
      "metadata": {
        "id": "hJMq02yiNsql"
      },
      "source": [
        "Guards"
      ]
    },
    {
      "cell_type": "code",
      "execution_count": null,
      "metadata": {
        "id": "BhleGTrn7nPr"
      },
      "outputs": [],
      "source": [
        "Guards = df[(df['Position'] == 'PG') | (df['Position'] == 'SG') | (df['Position'] == 'PG-SG') | (df['Position'] == 'SG-PG') | (df['Position'] == 'SG-SF') | (df['Position'] == 'SF-SG')]"
      ]
    },
    {
      "cell_type": "code",
      "execution_count": null,
      "metadata": {
        "id": "ftTMOJaIfN-g"
      },
      "outputs": [],
      "source": [
        "#Guards\n",
        "Q1astG = Guards['AST'].quantile(0.25)\n",
        "Q3astG = Guards['AST'].quantile(0.75)\n",
        "IQRastG = Q3astG - Q1astG\n",
        "meanastG = Guards['AST'].mean()"
      ]
    },
    {
      "cell_type": "code",
      "execution_count": null,
      "metadata": {
        "id": "ZFoBI15E7s-F"
      },
      "outputs": [],
      "source": [
        "Q1tovG = Guards['TOV'].quantile(0.25)\n",
        "Q3tovG = Guards['TOV'].quantile(0.75)\n",
        "IQRtovG = Q3tovG - Q1tovG\n",
        "meantovG = Guards['TOV'].mean()"
      ]
    },
    {
      "cell_type": "code",
      "execution_count": null,
      "metadata": {
        "id": "P-QBqAKvZ1id"
      },
      "outputs": [],
      "source": [
        "Q1rebG = Guards['TRB'].quantile(0.25)\n",
        "Q3rebG = Guards['TRB'].quantile(0.75)\n",
        "IQRrebG = Q3rebG - Q1rebG\n",
        "meanrebG = Guards['TRB'].mean()"
      ]
    },
    {
      "cell_type": "code",
      "execution_count": null,
      "metadata": {
        "id": "E4T9AipXcO9r"
      },
      "outputs": [],
      "source": [
        "Q1ptsG = Guards['PTS'].quantile(0.25)\n",
        "Q3ptsG = Guards['PTS'].quantile(0.75)\n",
        "IQRptsG = Q3ptsG - Q1ptsG\n",
        "meanptsG = Guards['PTS'].mean()"
      ]
    },
    {
      "cell_type": "code",
      "execution_count": null,
      "metadata": {
        "id": "ENMPK2A1cbON"
      },
      "outputs": [],
      "source": [
        "Q1stlG = Guards['STL'].quantile(0.25)\n",
        "Q3stlG = Guards['STL'].quantile(0.75)\n",
        "IQRstlG = Q3stlG - Q1stlG\n",
        "meanstlG = Guards['STL'].mean()"
      ]
    },
    {
      "cell_type": "code",
      "execution_count": null,
      "metadata": {
        "id": "bEAk7h59aVzK"
      },
      "outputs": [],
      "source": [
        "Q1blkG = Guards['BLK'].quantile(0.25)\n",
        "Q3blkG = Guards['BLK'].quantile(0.75)\n",
        "IQRblkG = Q3blkG - Q1blkG\n",
        "meanblkG = Guards['BLK'].mean()"
      ]
    },
    {
      "cell_type": "code",
      "execution_count": null,
      "metadata": {
        "id": "5iK-f-6ncmrR"
      },
      "outputs": [],
      "source": [
        "Q1fgaG = Guards['FGA'].quantile(0.25)\n",
        "Q3fgaG = Guards['FGA'].quantile(0.75)\n",
        "IQRfgaG = Q3fgaG - Q1fgaG\n",
        "meanfgaG = Guards['FGA'].mean()"
      ]
    },
    {
      "cell_type": "code",
      "execution_count": null,
      "metadata": {
        "id": "stUzvvNSctz2"
      },
      "outputs": [],
      "source": [
        "Q1cvalG = Guards['Contract Value'].quantile(0.25)\n",
        "Q3cvalG = Guards['Contract Value'].quantile(0.75)\n",
        "IQRcvalG = Q3cvalG - Q1cvalG\n",
        "meancvalG = Guards['Contract Value'].mean()"
      ]
    },
    {
      "cell_type": "code",
      "execution_count": null,
      "metadata": {
        "id": "bID0F5UbdQeL"
      },
      "outputs": [],
      "source": [
        "#Scoring Guards\n",
        "ScoringGuards = df[(df['GP'] >= df['GP'].mean()) & ((df['Position'] == 'PG') | (df['Position'] == 'SG') | (df['Position'] == 'PG-SG') | (df['Position'] == 'SG-PG') | (df['Position'] == 'SG-SF') | (df['Position'] == 'SF-SG')) & (df['PTS'] - df['FT'].mean() >= Q3ptsG + IQRptsG) & (df['FGA'] >= Q3fgaG + .75 * IQRfgaG)]\n",
        "RolesList['SG'] = (avgSalary(ScoringGuards))"
      ]
    },
    {
      "cell_type": "code",
      "execution_count": null,
      "metadata": {
        "id": "McSa6zwjE2rz"
      },
      "outputs": [],
      "source": [
        "#Distributors\n",
        "Passers = df[(df['GP'] >= df['GP'].mean()) & ((df['Position'] == 'PG') | (df['Position'] == 'SG') | (df['Position'] == 'PG-SG') | (df['Position'] == 'SG-PG') | (df['Position'] == 'SG-SF') | (df['Position'] == 'SF-SG')) & ((df['AST']/df['TOV']) >= (1 * (Q3astG + 1.5*IQRastG)/(Q3tovG + 1.5*IQRtovG))) & (df['AST%'] >= df['AST%'].quantile(.75) + .5*(df['AST%'].quantile(.75)-df['AST%'].quantile(.25)))]\n",
        "RolesList['DIST'] = (avgSalary(Passers))"
      ]
    },
    {
      "cell_type": "code",
      "execution_count": null,
      "metadata": {
        "id": "UUGqBLvSPNYp"
      },
      "outputs": [],
      "source": [
        "#Combo Guards\n",
        "ComboG = df[(df['GP'] >= df['GP'].mean()) & ((df['Position'] == 'PG') | (df['Position'] == 'SG') | (df['Position'] == 'PG-SG') | (df['Position'] == 'SG-PG') | (df['Position'] == 'SG-SF') | (df['Position'] == 'SF-SG')) &(df['AST%'] >= df['AST%'].quantile(.75) + .5*(df['AST%'].quantile(.75)-df['AST%'].quantile(.25))) & (df['3PAr'] >= df['3PAr'].quantile(.20)) & (df['3P%']>=df['3P%'].quantile(.20)) & (df['PTS'] >= Q3ptsG+ IQRptsG) & (df['FGA'] >= Q3fgaG + .75 * IQRfgaG)]\n",
        "RolesList['CG'] = (avgSalary(ComboG))"
      ]
    },
    {
      "cell_type": "code",
      "execution_count": null,
      "metadata": {
        "id": "Efto_9cBXrgK"
      },
      "outputs": [],
      "source": [
        "#Shooters\n",
        "Shooter = df[(df['GP'] >= df['GP'].mean()) & ((df['Position'] == 'PG') | (df['Position'] == 'SG') | (df['Position'] == 'PG-SG') | (df['Position'] == 'SG-PG') | (df['Position'] == 'SG-SF') | (df['Position'] == 'SF-SG')) & (df['3P%'] >= df['3P%'].quantile(.75)) & (df['3PAr'] >= df['3PAr'].mean()) & (df['3PA'] >= df['3PA'].quantile(.75))]\n",
        "RolesList['S'] = (avgSalary(Shooter))"
      ]
    },
    {
      "cell_type": "code",
      "execution_count": null,
      "metadata": {
        "id": "s5h9lFRKwTGf"
      },
      "outputs": [],
      "source": [
        "#3 and D\n",
        "ThreeD = df[(df['GP'] >= df['GP'].mean()) & (df['3PA'] > df['3PA'].quantile(.75)) & (df['3P%'] > df['3P%'].quantile(.60)) & (df['3PA'] > df['3PA'].quantile(.75)) & (df['DBPM'] > df['DBPM'].quantile(.75))]\n",
        "RolesList['3D'] = (avgSalary(ThreeD))"
      ]
    },
    {
      "cell_type": "markdown",
      "metadata": {
        "id": "FT_-2a_GN2-E"
      },
      "source": [
        "Wings"
      ]
    },
    {
      "cell_type": "code",
      "execution_count": null,
      "metadata": {
        "id": "OIrPS4GM1_Yn"
      },
      "outputs": [],
      "source": [
        "Wings = df[(df['Position'] == 'SF') | (df['Position'] == 'SG') | (df['Position'] == 'SF-SG') | (df['Position'] == 'SG-SF') | (df['Position'] == 'SG-PG') | (df['Position'] == 'PG-SG')]"
      ]
    },
    {
      "cell_type": "code",
      "execution_count": null,
      "metadata": {
        "id": "dYTl38VdN4N5"
      },
      "outputs": [],
      "source": [
        "Q1astW = Wings['AST'].quantile(0.25)\n",
        "Q3astW = Wings['AST'].quantile(0.75)\n",
        "IQRastW = Q3astW - Q1astW\n",
        "meanastW = Wings['AST'].mean()"
      ]
    },
    {
      "cell_type": "code",
      "execution_count": null,
      "metadata": {
        "id": "5blf6lhyOR6b"
      },
      "outputs": [],
      "source": [
        "Q1ptsW = Wings['PTS'].quantile(0.25)\n",
        "Q3ptsW = Wings['PTS'].quantile(0.75)\n",
        "IQRptsW = Q3ptsW - Q1ptsW\n",
        "meanptsW = Wings['PTS'].mean()"
      ]
    },
    {
      "cell_type": "code",
      "execution_count": null,
      "metadata": {
        "id": "z9ofj5vgPazm"
      },
      "outputs": [],
      "source": [
        "Q1stlW = Wings['STL'].quantile(0.25)\n",
        "Q3stlW = Wings['STL'].quantile(0.75)\n",
        "IQRstlW = Q3stlW - Q1stlW\n",
        "meanstlW = Wings['STL'].mean()"
      ]
    },
    {
      "cell_type": "code",
      "execution_count": null,
      "metadata": {
        "id": "K1fmoVfnPkGC"
      },
      "outputs": [],
      "source": [
        "Q1fgaW = Wings['FGA'].quantile(0.25)\n",
        "Q3fgaW = Wings['FGA'].quantile(0.75)\n",
        "IQRfgaW = Q3fgaW - Q1fgaW\n",
        "meanfgaW = Wings['FGA'].mean()"
      ]
    },
    {
      "cell_type": "code",
      "execution_count": null,
      "metadata": {
        "id": "V-wjEe95QHs6"
      },
      "outputs": [],
      "source": [
        "Q1rebW = Wings['TRB'].quantile(0.25)\n",
        "Q3rebW = Wings['TRB'].quantile(0.75)\n",
        "IQRrebW = Q3rebW - Q1rebW\n",
        "meanrebW = Wings['TRB'].mean()"
      ]
    },
    {
      "cell_type": "code",
      "execution_count": null,
      "metadata": {
        "id": "c9tnWWShQiG8"
      },
      "outputs": [],
      "source": [
        "Q1cvalW = Wings['Contract Value'].quantile(0.25)\n",
        "Q3cvalW = Wings['Contract Value'].quantile(0.75)\n",
        "IQRcvalW = Q3cvalW - Q1cvalW\n",
        "meancvalW = Wings['Contract Value'].mean()"
      ]
    },
    {
      "cell_type": "code",
      "execution_count": null,
      "metadata": {
        "id": "1uORt03Ze0lc"
      },
      "outputs": [],
      "source": [
        "#Scoring Wings\n",
        "ScoringWings = df[(df['GP'] >= df['GP'].mean()) & ((df['Position'] == 'SF') | (df['Position'] == 'SG') | (df['Position'] == 'SF-SG') | (df['Position'] == 'SG-SF') | (df['Position'] == 'SG-PG') | (df['Position'] == 'PG-SG')) & (df['PTS'] >= Q3ptsW + IQRptsW) & (df['FGA'] >= Q3fgaW + .75 * IQRfgaW)]\n",
        "RolesList['SW'] = (avgSalary(ScoringWings))"
      ]
    },
    {
      "cell_type": "code",
      "execution_count": null,
      "metadata": {
        "id": "5LfgbP9oq61u"
      },
      "outputs": [],
      "source": [
        "#2 Way Players\n",
        "twoway = df[(df['GP'] >= df['GP'].mean()) & (df['MP'] >= df['MP'].quantile(.75)) & (df['OBPM'] > df['OBPM'].quantile(.75)) & (df['DBPM'] > df['DBPM'].quantile(.75))]\n",
        "RolesList['2Way'] = (avgSalary(twoway))"
      ]
    },
    {
      "cell_type": "code",
      "execution_count": null,
      "metadata": {
        "id": "STOwkqZbx9fg"
      },
      "outputs": [],
      "source": [
        "#Versatile Forwards\n",
        "VFor = df[(df['GP'] >= df['GP'].mean()) & ((df['Position'] == 'SF') | (df['Position'] == 'PF') | (df['Position'] == 'PF-SF') | (df['Position'] == 'SF-PF') | (df['Position'] == 'PF-C') | (df['Position'] == 'C-PF')) & (df['PTS'] >= df['PTS'].quantile(.75)) & (df['TRB'] >= df['TRB'].quantile(.75)) & (df['AST'] >= df['AST'].quantile(.75)) & (df['USG%'] >= df['USG%'].quantile(.75))]\n",
        "RolesList['VF'] = (avgSalary(VFor))"
      ]
    },
    {
      "cell_type": "code",
      "execution_count": null,
      "metadata": {
        "id": "rivzyWsxzQc3"
      },
      "outputs": [],
      "source": [
        "#Versatile Bigs\n",
        "VBigs = df[(df['GP'] >= df['GP'].mean()) & ((df['Position'] == 'C') | (df['Position'] == 'PF') | (df['Position'] == 'SF-PF') | (df['Position'] == 'PF-C') | (df['Position'] == 'PF-SF')  | (df['Position'] == 'C-PF')) & (df['PTS'] >= df['PTS'].quantile(.75)) & (df['TRB'] >= df['TRB'].quantile(.75)) & (df['AST'] >= df['AST'].quantile(.75)) & (df['USG%'] >= df['USG%'].quantile(.75)) & (df['3PAr'] <= df['3PAr'].quantile(.25))]\n",
        "RolesList['VB'] = (avgSalary(VBigs))"
      ]
    },
    {
      "cell_type": "code",
      "execution_count": null,
      "metadata": {
        "id": "oY1GjCw_0ZjZ"
      },
      "outputs": [],
      "source": [
        "#Post Players\n",
        "Post = df[(df['GP'] >= df['GP'].mean()) & ((df['Position'] == 'C') | (df['Position'] == 'PF') | (df['Position'] == 'SF-PF') | (df['Position'] == 'PF-C') | (df['Position'] == 'PF-SF')  | (df['Position'] == 'C-PF')) & (df['3PAr'] <= df['3PAr'].quantile(.25)) & (df['TRB'] >= df['TRB'].quantile(.75)) & (df['BLK'] >= df['BLK'].quantile(.75)) & (df['USG%'] >= df['USG%'].quantile(.75))]\n",
        "RolesList['PP'] = (avgSalary(Post))"
      ]
    },
    {
      "cell_type": "code",
      "source": [
        "fig, ax = plt.subplots()\n",
        "roles = RolesList.keys()\n",
        "salaries = RolesList.values()\n",
        "plt.bar(roles, salaries)"
      ],
      "metadata": {
        "colab": {
          "base_uri": "https://localhost:8080/",
          "height": 462
        },
        "id": "0C-bfnfzz9zb",
        "outputId": "ce0d0947-6148-4307-a843-679e46d3d121"
      },
      "execution_count": null,
      "outputs": [
        {
          "output_type": "execute_result",
          "data": {
            "text/plain": [
              "<BarContainer object of 12 artists>"
            ]
          },
          "metadata": {},
          "execution_count": 60
        },
        {
          "output_type": "display_data",
          "data": {
            "text/plain": [
              "<Figure size 640x480 with 1 Axes>"
            ],
            "image/png": "[encoded data removed]"
          },
          "metadata": {}
        }
      ]
    },
    {
      "cell_type": "markdown",
      "source": [
        "*Some players are in multiple roles, there will be some overlap\n",
        "\n",
        "Defense is harder to track statistically, so defensive roles will be missing certain players (Marcus Smart, Jrue Holiday, etc.)"
      ],
      "metadata": {
        "id": "YJSORxBn5yXl"
      }
    },
    {
      "cell_type": "markdown",
      "source": [
        "Combo Guards are very highly valued in the NBA, being able to score, assist, and shoot.\n",
        "Pure Shooters aren't as valued, since most of them rely on catch-and-shoot/other players setting up their shots for them. Same for 3-and-D players, since they're mostly just shooters who can also play defense well.\n",
        "Distributors are similar to Pure Shooters. Combo Guards also cover what they do. Distributors usually can't create their own shot, which allows a defense to exploit them similarly to shooters."
      ],
      "metadata": {
        "id": "YX5dOu6i549C"
      }
    },
    {
      "cell_type": "markdown",
      "source": [
        "As for Frontcourt players (fowards and centers), 2-Way players are the most highly valued. Though 2-Way players include guards, those guards are usually big enough or defensively skilled enough to guard most, if not all positions. Their versatility make these players and their contracts incredibly valuable."
      ],
      "metadata": {
        "id": "TNu0bfNf76tS"
      }
    }
  ],
  "metadata": {
    "colab": {
      "provenance": [],
      "toc_visible": true,
      "authorship_tag": "ABX9TyMaTiVmZrJj7I/k/7BT1jvf",
      "include_colab_link": true
    },
    "kernelspec": {
      "display_name": "Python 3",
      "name": "python3"
    },
    "language_info": {
      "name": "python"
    }
  },
  "nbformat": 4,
  "nbformat_minor": 0
}